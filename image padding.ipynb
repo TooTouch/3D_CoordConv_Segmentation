{
 "cells": [
  {
   "cell_type": "code",
   "execution_count": 1,
   "metadata": {},
   "outputs": [
    {
     "name": "stderr",
     "output_type": "stream",
     "text": [
      "C:\\Users\\wogur\\Anaconda3\\lib\\site-packages\\h5py\\__init__.py:36: FutureWarning: Conversion of the second argument of issubdtype from `float` to `np.floating` is deprecated. In future, it will be treated as `np.float64 == np.dtype(float).type`.\n",
      "  from ._conv import register_converters as _register_converters\n"
     ]
    }
   ],
   "source": [
    "import nibabel as nib\n",
    "import numpy as np\n",
    "import matplotlib.pyplot as plt\n",
    "import os\n",
    "\n",
    "from PIL import Image\n",
    "from tqdm import tqdm"
   ]
  },
  {
   "cell_type": "code",
   "execution_count": 2,
   "metadata": {},
   "outputs": [],
   "source": [
    "root = './dataset/'\n",
    "ct_set = os.path.join(root,'ct_train_test/ct_train/')\n",
    "mr_set = os.path.join(root,'mr_train_test/mr_train/')"
   ]
  },
  {
   "cell_type": "code",
   "execution_count": 3,
   "metadata": {},
   "outputs": [],
   "source": [
    "ct_list = os.listdir(ct_set)\n",
    "ct_images = list()\n",
    "ct_labels = list()\n",
    "for ct_l in ct_list:\n",
    "    if 'image' in ct_l:\n",
    "        file_path = os.path.join(ct_set, ct_l)\n",
    "        fn = os.listdir(file_path)\n",
    "        ct_images.append(nib.load(file_path + '/' + fn[0]))\n",
    "    elif 'label' in ct_l:\n",
    "        file_path = os.path.join(ct_set, ct_l)\n",
    "        fn = os.listdir(file_path)\n",
    "        ct_labels.append(nib.load(file_path + '/' + fn[0]))"
   ]
  },
  {
   "cell_type": "code",
   "execution_count": 4,
   "metadata": {},
   "outputs": [],
   "source": [
    "mr_list = os.listdir(mr_set)\n",
    "mr_images = list()\n",
    "mr_labels = list()\n",
    "for mr_l in mr_list:\n",
    "    if 'image' in mr_l:\n",
    "        file_path = os.path.join(mr_set, mr_l)\n",
    "        fn = os.listdir(file_path)\n",
    "        mr_images.append(nib.load(file_path + '/' + fn[0]))\n",
    "    elif 'label' in mr_l:\n",
    "        file_path = os.path.join(mr_set, mr_l)\n",
    "        fn = os.listdir(file_path)\n",
    "        mr_labels.append(nib.load(file_path + '/' + fn[0]))"
   ]
  },
  {
   "cell_type": "code",
   "execution_count": 5,
   "metadata": {},
   "outputs": [],
   "source": [
    "ct_cnt = len(ct_images)\n",
    "mr_cnt = len(mr_images)"
   ]
  },
  {
   "cell_type": "markdown",
   "metadata": {},
   "source": [
    "# image shape"
   ]
  },
  {
   "cell_type": "code",
   "execution_count": 6,
   "metadata": {},
   "outputs": [],
   "source": [
    "ct_size = list()\n",
    "mr_size = list()\n",
    "for ct_image in ct_images:\n",
    "    ct_size.append(ct_image.shape)    \n",
    "for mr_image in mr_images:\n",
    "    mr_size.append(mr_image.shape)"
   ]
  },
  {
   "cell_type": "code",
   "execution_count": 7,
   "metadata": {},
   "outputs": [
    {
     "data": {
      "text/plain": [
       "[(512, 512, 363),\n",
       " (512, 512, 239),\n",
       " (512, 512, 298),\n",
       " (512, 512, 200),\n",
       " (512, 512, 177),\n",
       " (512, 512, 248),\n",
       " (512, 512, 243),\n",
       " (512, 512, 222),\n",
       " (512, 512, 293),\n",
       " (512, 512, 274),\n",
       " (512, 512, 239),\n",
       " (512, 512, 177),\n",
       " (512, 512, 211),\n",
       " (512, 512, 358),\n",
       " (512, 512, 300),\n",
       " (512, 512, 333),\n",
       " (512, 512, 283),\n",
       " (512, 512, 187),\n",
       " (512, 512, 297),\n",
       " (512, 512, 363)]"
      ]
     },
     "execution_count": 7,
     "metadata": {},
     "output_type": "execute_result"
    }
   ],
   "source": [
    "ct_size"
   ]
  },
  {
   "cell_type": "code",
   "execution_count": 8,
   "metadata": {},
   "outputs": [
    {
     "data": {
      "text/plain": [
       "[(512, 512, 160),\n",
       " (512, 512, 128),\n",
       " (288, 288, 160),\n",
       " (288, 288, 120),\n",
       " (288, 288, 130),\n",
       " (256, 256, 160),\n",
       " (288, 288, 180),\n",
       " (288, 288, 130),\n",
       " (512, 512, 120),\n",
       " (288, 288, 160),\n",
       " (288, 288, 160),\n",
       " (512, 512, 128),\n",
       " (512, 512, 112),\n",
       " (512, 512, 160),\n",
       " (340, 340, 200),\n",
       " (288, 288, 130),\n",
       " (288, 288, 140),\n",
       " (288, 288, 150),\n",
       " (288, 288, 135),\n",
       " (288, 288, 135)]"
      ]
     },
     "execution_count": 8,
     "metadata": {},
     "output_type": "execute_result"
    }
   ],
   "source": [
    "mr_size"
   ]
  },
  {
   "cell_type": "markdown",
   "metadata": {},
   "source": [
    "# image resize"
   ]
  },
  {
   "cell_type": "code",
   "execution_count": 9,
   "metadata": {},
   "outputs": [],
   "source": [
    "def resizing(img, resize):\n",
    "    bigsize = max(img.size)\n",
    "    bg = Image.new('L', (bigsize,bigsize), 0)\n",
    "    offset = (int(round(((bigsize - img.size[0])/2),0)), int(round(((bigsize - img.size[1])/2),0)))\n",
    "    bg.paste(img,offset)\n",
    "    bg = bg.resize((resize,resize))\n",
    "    return bg"
   ]
  },
  {
   "cell_type": "code",
   "execution_count": 10,
   "metadata": {
    "scrolled": true
   },
   "outputs": [],
   "source": [
    "def resizing_3d(images):\n",
    "    processed_imgs = list()\n",
    "    for img in tqdm(images):\n",
    "        resized_img = np.zeros((256,256,img.shape[2]))\n",
    "        pad_img = np.zeros((256,256,256))\n",
    "        for i in range(img.shape[2]):\n",
    "            im = Image.fromarray(img.get_data()[:,:,i])\n",
    "            resized_img[:,:,i] = np.asarray(im.resize((256,256)))\n",
    "        for j in range(resized_img.shape[0]):\n",
    "            im = Image.fromarray(resized_img[j,:,:])\n",
    "            im =  resizing(im,256)\n",
    "            pad_img[j,:,:] = np.asarray(im)\n",
    "        processed_imgs.append(pad_img)\n",
    "    return processed_imgs"
   ]
  },
  {
   "cell_type": "code",
   "execution_count": null,
   "metadata": {},
   "outputs": [
    {
     "name": "stderr",
     "output_type": "stream",
     "text": [
      "100%|██████████████████████████████████████████████████████████████████████████████████| 20/20 [00:37<00:00,  1.88s/it]\n",
      " 90%|█████████████████████████████████████████████████████████████████████████▊        | 18/20 [00:16<00:01,  1.11it/s]"
     ]
    }
   ],
   "source": [
    "ct_pad_images = resizing_3d(ct_images)\n",
    "ct_pad_labels = resizing_3d(ct_labels)"
   ]
  },
  {
   "cell_type": "code",
   "execution_count": null,
   "metadata": {},
   "outputs": [],
   "source": [
    "mr_pad_images = resizing_3d(mr_images)\n",
    "mr_pad_labels = resizing_3d(mr_labels)"
   ]
  },
  {
   "cell_type": "code",
   "execution_count": null,
   "metadata": {},
   "outputs": [],
   "source": [
    "f, ax = plt.subplots(5,8, figsize=(25,20))\n",
    "img_idx = 0\n",
    "pad_idx = 0\n",
    "for i in range(5*8):\n",
    "    if (i%8)%2==0:\n",
    "        ax[i//8,i%8].imshow(ct_images[img_idx].get_data()[256,:,:])\n",
    "        ax[i//8,i%8].axis('off')\n",
    "        img_idx+=1\n",
    "    else:\n",
    "        ax[i//8,i%8].imshow(ct_pad_images[pad_idx][128,:,:])\n",
    "        ax[i//8,i%8].axis('off')\n",
    "        pad_idx+=1"
   ]
  },
  {
   "cell_type": "code",
   "execution_count": null,
   "metadata": {},
   "outputs": [],
   "source": [
    "print(ct_pad_images[0].shape)\n",
    "img = nib.Nifti1Image(ct_pad_images[0], affine=np.eye(4))\n",
    "nib.save(img,'./dataset/ct_imgs.nii')"
   ]
  },
  {
   "cell_type": "code",
   "execution_count": null,
   "metadata": {},
   "outputs": [],
   "source": [
    "print(mr_pad_images[0].shape)\n",
    "img = nib.Nifti1Image(mr_pad_images[0], affine=np.eye(4))\n",
    "nib.save(img,'./dataset/mr_imgs.nii')"
   ]
  },
  {
   "cell_type": "code",
   "execution_count": null,
   "metadata": {},
   "outputs": [],
   "source": [
    "print(ct_pad_labels[0].shape)\n",
    "img = nib.Nifti1Image(ct_pad_labels[0], affine=np.eye(4))\n",
    "nib.save(img,'./dataset/ct_labels.nii')"
   ]
  },
  {
   "cell_type": "code",
   "execution_count": null,
   "metadata": {},
   "outputs": [],
   "source": [
    "print(mr_pad_labels[0].shape)\n",
    "img = nib.Nifti1Image(mr_pad_labels[0], affine=np.eye(4))\n",
    "nib.save(img,'./dataset/mr_labels.nii')"
   ]
  },
  {
   "cell_type": "code",
   "execution_count": null,
   "metadata": {},
   "outputs": [],
   "source": []
  }
 ],
 "metadata": {
  "kernelspec": {
   "display_name": "Python 3",
   "language": "python",
   "name": "python3"
  },
  "language_info": {
   "codemirror_mode": {
    "name": "ipython",
    "version": 3
   },
   "file_extension": ".py",
   "mimetype": "text/x-python",
   "name": "python",
   "nbconvert_exporter": "python",
   "pygments_lexer": "ipython3",
   "version": "3.6.5"
  }
 },
 "nbformat": 4,
 "nbformat_minor": 2
}
