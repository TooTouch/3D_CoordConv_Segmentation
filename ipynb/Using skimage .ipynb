{
 "cells": [
  {
   "cell_type": "markdown",
   "metadata": {
    "toc": true
   },
   "source": [
    "<h1>Table of Contents<span class=\"tocSkip\"></span></h1>\n",
    "<div class=\"toc\"><ul class=\"toc-item\"></ul></div>"
   ]
  },
  {
   "cell_type": "code",
   "execution_count": 1,
   "metadata": {},
   "outputs": [
    {
     "name": "stderr",
     "output_type": "stream",
     "text": [
      "C:\\Users\\wogur\\Anaconda3\\lib\\site-packages\\h5py\\__init__.py:36: FutureWarning: Conversion of the second argument of issubdtype from `float` to `np.floating` is deprecated. In future, it will be treated as `np.float64 == np.dtype(float).type`.\n",
      "  from ._conv import register_converters as _register_converters\n"
     ]
    }
   ],
   "source": [
    "from skimage.transform import resize\n",
    "import nibabel as nib\n",
    "import copy\n",
    "from glob import glob\n"
   ]
  },
  {
   "cell_type": "code",
   "execution_count": 2,
   "metadata": {},
   "outputs": [
    {
     "name": "stdout",
     "output_type": "stream",
     "text": [
      "40\n"
     ]
    }
   ],
   "source": [
    "dataset_dir = '../dataset/ct_train_test/ct_train/'\n",
    "pair_list = glob('{}/*.nii/*.nii'.format(dataset_dir))\n",
    "print(len(pair_list))"
   ]
  },
  {
   "cell_type": "code",
   "execution_count": 3,
   "metadata": {},
   "outputs": [],
   "source": [
    "rename_map = [0, 205, 420, 500, 550, 600, 820, 850]"
   ]
  },
  {
   "cell_type": "code",
   "execution_count": 4,
   "metadata": {},
   "outputs": [],
   "source": [
    "def load_data_pairs(pair_list, resize_r, rename_map):\n",
    "    \"\"\"load all volume pairs\"\"\"\n",
    "    img_clec = []\n",
    "    label_clec = []\n",
    "\n",
    "    # rename_map = [0, 205, 420, 500, 550, 600, 820, 850]\n",
    "    for k in range(0, len(pair_list), 2):\n",
    "        img_path = pair_list[k]\n",
    "        lab_path = pair_list[k+1]\n",
    "        img_data = nib.load(img_path).get_data().copy()\n",
    "        lab_data = nib.load(lab_path).get_data().copy()\n",
    "\n",
    "        ###preprocessing\n",
    "        # resize\n",
    "        resize_dim = (np.array(img_data.shape) * resize_r).astype('int')\n",
    "        img_data = resize(img_data, resize_dim, order=1, preserve_range=True)\n",
    "        lab_data = resize(lab_data, resize_dim, order=0, preserve_range=True)\n",
    "        lab_r_data = np.zeros(lab_data.shape, dtype='int32')\n",
    "\n",
    "        # rename labels\n",
    "        for i in range(len(rename_map)):\n",
    "            lab_r_data[lab_data == rename_map[i]] = i\n",
    "\n",
    "        # for s in range(img_data.shape[2]):\n",
    "        #     cv2.imshow('img', np.concatenate(((img_data[:,:,s]).astype('uint8'), (lab_r_data[:,:,s]*30).astype('uint8')), axis=1))\n",
    "        #     cv2.waitKey(20)\n",
    "\n",
    "        img_clec.append(img_data)\n",
    "        label_clec.append(lab_r_data)\n",
    "\n",
    "    return img_clec, label_clec"
   ]
  },
  {
   "cell_type": "code",
   "execution_count": 5,
   "metadata": {},
   "outputs": [
    {
     "name": "stderr",
     "output_type": "stream",
     "text": [
      "C:\\Users\\wogur\\Anaconda3\\lib\\site-packages\\skimage\\transform\\_warps.py:84: UserWarning: The default mode, 'constant', will be changed to 'reflect' in skimage 0.15.\n",
      "  warn(\"The default mode, 'constant', will be changed to 'reflect' in \"\n"
     ]
    }
   ],
   "source": [
    "img, label = load_data_pairs(pair_list[:2], 0.6, rename_map)"
   ]
  },
  {
   "cell_type": "code",
   "execution_count": 7,
   "metadata": {},
   "outputs": [
    {
     "name": "stdout",
     "output_type": "stream",
     "text": [
      "(307, 307, 217)\n",
      "(307, 307, 217)\n"
     ]
    }
   ],
   "source": [
    "print(img[0].shape)\n",
    "print(label[0].shape)"
   ]
  },
  {
   "cell_type": "markdown",
   "metadata": {},
   "source": [
    "---"
   ]
  },
  {
   "cell_type": "code",
   "execution_count": 11,
   "metadata": {},
   "outputs": [],
   "source": [
    "def fit_cube_param(vol_dim, cube_size, ita):\n",
    "    dim = np.asarray(vol_dim)\n",
    "    # cube number and overlap along 3 dimensions\n",
    "    fold = dim / cube_size + ita\n",
    "    ovlap = np.ceil(np.true_divide((fold * cube_size - dim), (fold - 1)))\n",
    "    ovlap = ovlap.astype('int')\n",
    "\n",
    "    fold = np.ceil(np.true_divide((dim + (fold - 1)*ovlap), cube_size))\n",
    "    fold = fold.astype('int')\n",
    "\n",
    "    return fold, ovlap"
   ]
  },
  {
   "cell_type": "code",
   "execution_count": 45,
   "metadata": {},
   "outputs": [],
   "source": [
    "# decompose volume into list of cubes\n",
    "def decompose_vol2cube(vol_data, batch_size, cube_size, n_chn, ita):\n",
    "    cube_list = []\n",
    "    # get parameters for decompose\n",
    "    fold, ovlap = fit_cube_param(vol_data.shape, cube_size, ita)\n",
    "    dim = np.asarray(vol_data.shape)\n",
    "    # decompose\n",
    "    for R in range(0, fold[0]):\n",
    "        r_s = R*cube_size - R*ovlap[0]\n",
    "        r_e = r_s + cube_size\n",
    "        if r_e >= dim[0]:\n",
    "            r_s = dim[0] - cube_size\n",
    "            r_e = r_s + cube_size\n",
    "        for C in range(0, fold[1]):\n",
    "            c_s = C*cube_size - C*ovlap[1]\n",
    "            c_e = c_s + cube_size\n",
    "            if c_e >= dim[1]:\n",
    "                c_s = dim[1] - cube_size\n",
    "                c_e = c_s + cube_size\n",
    "            for H in range(0, fold[2]):\n",
    "                h_s = H*cube_size - H*ovlap[2]\n",
    "                h_e = h_s + cube_size\n",
    "                if h_e >= dim[2]:\n",
    "                    h_s = dim[2] - cube_size\n",
    "                    h_e = h_s + cube_size\n",
    "                # partition multiple channels\n",
    "                cube_temp = vol_data[r_s:r_e, c_s:c_e, h_s:h_e]\n",
    "                cube_batch = np.zeros([batch_size, cube_size, cube_size, cube_size, n_chn]).astype('float32')\n",
    "                cube_batch[0, :, :, :, 0] = copy.deepcopy(cube_temp)\n",
    "                # save\n",
    "                cube_list.append(cube_batch)\n",
    "\n",
    "    return cube_list"
   ]
  },
  {
   "cell_type": "code",
   "execution_count": 69,
   "metadata": {},
   "outputs": [],
   "source": [
    "def compose_label_cube2vol(cube_list, vol_dim, cube_size, ita, class_n):\n",
    "    # get parameters for compose\n",
    "    fold, ovlap = fit_cube_param(vol_dim, cube_size, ita)\n",
    "    # create label volume for all classes\n",
    "    label_classes_mat = (np.zeros([vol_dim[0], vol_dim[1], vol_dim[2], class_n])).astype('int32')\n",
    "    idx_classes_mat = (np.zeros([cube_size, cube_size, cube_size, class_n])).astype('int32')\n",
    "\n",
    "    p_count = 0\n",
    "    for R in range(0, fold[0]):\n",
    "        r_s = R*cube_size - R*ovlap[0]\n",
    "        r_e = r_s + cube_size\n",
    "        if r_e >= vol_dim[0]:\n",
    "            r_s = vol_dim[0] - cube_size\n",
    "            r_e = r_s + cube_size\n",
    "        for C in range(0, fold[1]):\n",
    "            c_s = C*cube_size - C*ovlap[1]\n",
    "            c_e = c_s + cube_size\n",
    "            if c_e >= vol_dim[1]:\n",
    "                c_s = vol_dim[1] - cube_size\n",
    "                c_e = c_s + cube_size\n",
    "            for H in range(0, fold[2]):\n",
    "                h_s = H*cube_size - H*ovlap[2]\n",
    "                h_e = h_s + cube_size\n",
    "                if h_e >= vol_dim[2]:\n",
    "                    h_s = vol_dim[2] - cube_size\n",
    "                    h_e = h_s + cube_size\n",
    "                # histogram for voting\n",
    "                for k in range(class_n):\n",
    "                    idx_classes_mat[:, :, :, k] = (cube_list[p_count].reshape((96,96,96)) == k)\n",
    "                # accumulation\n",
    "                label_classes_mat[r_s:r_e, c_s:c_e, h_s:h_e, :] = label_classes_mat[r_s:r_e, c_s:c_e, h_s:h_e, :] + idx_classes_mat\n",
    "\n",
    "                p_count += 1\n",
    "    # print 'label mat unique:'\n",
    "    # print np.unique(label_mat)\n",
    "\n",
    "    compose_vol = np.argmax(label_classes_mat, axis=3)\n",
    "    # print np.unique(label_mat)\n",
    "\n",
    "    return compose_vol"
   ]
  },
  {
   "cell_type": "markdown",
   "metadata": {},
   "source": [
    "---"
   ]
  },
  {
   "cell_type": "code",
   "execution_count": 2,
   "metadata": {},
   "outputs": [
    {
     "data": {
      "text/plain": [
       "(512, 512, 224)"
      ]
     },
     "execution_count": 2,
     "metadata": {},
     "output_type": "execute_result"
    }
   ],
   "source": [
    "pred = nib.load('../predict_image/UNET_3D_21_96_7/UNET_3D_21_96_7_0.nii')\n",
    "pred_image = pred.get_data().copy()\n",
    "pred_image.shape"
   ]
  },
  {
   "cell_type": "code",
   "execution_count": 3,
   "metadata": {},
   "outputs": [],
   "source": [
    "import matplotlib.pyplot as plt"
   ]
  },
  {
   "cell_type": "code",
   "execution_count": 7,
   "metadata": {},
   "outputs": [
    {
     "data": {
      "text/plain": [
       "array([0], dtype=int16)"
      ]
     },
     "execution_count": 7,
     "metadata": {},
     "output_type": "execute_result"
    }
   ],
   "source": [
    "np.unique(pred_image)"
   ]
  },
  {
   "cell_type": "code",
   "execution_count": 6,
   "metadata": {},
   "outputs": [
    {
     "data": {
      "text/plain": [
       "(512, 512, 224)"
      ]
     },
     "execution_count": 6,
     "metadata": {},
     "output_type": "execute_result"
    }
   ],
   "source": [
    "pred = nib.load('../predict_image/UNET_3D_22/UNET_3D_22_0.nii')\n",
    "pred_affine = pred.affine\n",
    "pred_image = pred.get_data().copy()\n",
    "pred_image.shape"
   ]
  },
  {
   "cell_type": "code",
   "execution_count": 7,
   "metadata": {},
   "outputs": [
    {
     "data": {
      "text/plain": [
       "array([  0, 205, 420, 500, 550, 600, 820, 850], dtype=int16)"
      ]
     },
     "execution_count": 7,
     "metadata": {},
     "output_type": "execute_result"
    }
   ],
   "source": [
    "np.unique(pred_image)"
   ]
  },
  {
   "cell_type": "code",
   "execution_count": 8,
   "metadata": {},
   "outputs": [],
   "source": [
    "rename_map = [0, 205, 420, 500, 550, 600, 820, 850]\n",
    "for i in range(len(rename_map)):\n",
    "    pred_image[pred_image==rename_map[i]] = i"
   ]
  },
  {
   "cell_type": "code",
   "execution_count": 9,
   "metadata": {},
   "outputs": [
    {
     "data": {
      "text/plain": [
       "array([0, 1, 2, 3, 4, 5, 6, 7], dtype=int16)"
      ]
     },
     "execution_count": 9,
     "metadata": {},
     "output_type": "execute_result"
    }
   ],
   "source": [
    "np.unique(pred_image)"
   ]
  },
  {
   "cell_type": "code",
   "execution_count": 10,
   "metadata": {},
   "outputs": [
    {
     "data": {
      "text/plain": [
       "(512, 512, 224)"
      ]
     },
     "execution_count": 10,
     "metadata": {},
     "output_type": "execute_result"
    }
   ],
   "source": [
    "pred_image.shape"
   ]
  },
  {
   "cell_type": "code",
   "execution_count": 11,
   "metadata": {},
   "outputs": [],
   "source": [
    "# pred_image = pred_image.astype('float32')"
   ]
  },
  {
   "cell_type": "code",
   "execution_count": 12,
   "metadata": {},
   "outputs": [
    {
     "data": {
      "text/plain": [
       "dtype('<i2')"
      ]
     },
     "execution_count": 12,
     "metadata": {},
     "output_type": "execute_result"
    }
   ],
   "source": [
    "pred_image.dtype"
   ]
  },
  {
   "cell_type": "code",
   "execution_count": 13,
   "metadata": {},
   "outputs": [
    {
     "data": {
      "text/plain": [
       "array([0, 1, 2, 3, 4, 5, 6, 7], dtype=int16)"
      ]
     },
     "execution_count": 13,
     "metadata": {},
     "output_type": "execute_result"
    }
   ],
   "source": [
    "np.unique(pred_image)"
   ]
  },
  {
   "cell_type": "code",
   "execution_count": 14,
   "metadata": {},
   "outputs": [],
   "source": [
    "pred_save = nib.Nifti1Image(pred_image, affine=pred_affine)\n",
    "nib.save(pred_save, '../predict_image/UNET_3D_22/UNET_3D_22_0(color).nii')"
   ]
  },
  {
   "cell_type": "code",
   "execution_count": 15,
   "metadata": {},
   "outputs": [],
   "source": [
    "import matplotlib.pyplot as plt"
   ]
  },
  {
   "cell_type": "code",
   "execution_count": 16,
   "metadata": {},
   "outputs": [
    {
     "data": {
      "text/plain": [
       "<matplotlib.image.AxesImage at 0x1b172336470>"
      ]
     },
     "execution_count": 16,
     "metadata": {},
     "output_type": "execute_result"
    },
    {
     "data": {
      "image/png": "[encoded data removed]",
      "text/plain": [
       "<Figure size 432x288 with 1 Axes>"
      ]
     },
     "metadata": {},
     "output_type": "display_data"
    }
   ],
   "source": [
    "plt.imshow(pred_image[:,:,112])"
   ]
  },
  {
   "cell_type": "code",
   "execution_count": null,
   "metadata": {},
   "outputs": [],
   "source": []
  }
 ],
 "metadata": {
  "hide_input": false,
  "kernelspec": {
   "display_name": "Python 3",
   "language": "python",
   "name": "python3"
  },
  "language_info": {
   "codemirror_mode": {
    "name": "ipython",
    "version": 3
   },
   "file_extension": ".py",
   "mimetype": "text/x-python",
   "name": "python",
   "nbconvert_exporter": "python",
   "pygments_lexer": "ipython3",
   "version": "3.6.5"
  },
  "toc": {
   "base_numbering": 1,
   "nav_menu": {},
   "number_sections": true,
   "sideBar": true,
   "skip_h1_title": false,
   "title_cell": "Table of Contents",
   "title_sidebar": "Contents",
   "toc_cell": true,
   "toc_position": {},
   "toc_section_display": true,
   "toc_window_display": false
  },
  "varInspector": {
   "cols": {
    "lenName": 16,
    "lenType": 16,
    "lenVar": 40
   },
   "kernels_config": {
    "python": {
     "delete_cmd_postfix": "",
     "delete_cmd_prefix": "del ",
     "library": "var_list.py",
     "varRefreshCmd": "print(var_dic_list())"
    },
    "r": {
     "delete_cmd_postfix": ") ",
     "delete_cmd_prefix": "rm(",
     "library": "var_list.r",
     "varRefreshCmd": "cat(var_dic_list()) "
    }
   },
   "types_to_exclude": [
    "module",
    "function",
    "builtin_function_or_method",
    "instance",
    "_Feature"
   ],
   "window_display": false
  }
 },
 "nbformat": 4,
 "nbformat_minor": 2
}
