{
 "cells": [
  {
   "cell_type": "markdown",
   "metadata": {
    "toc": true
   },
   "source": [
    "<h1>Table of Contents<span class=\"tocSkip\"></span></h1>\n",
    "<div class=\"toc\"><ul class=\"toc-item\"></ul></div>"
   ]
  },
  {
   "cell_type": "code",
   "execution_count": 1,
   "metadata": {},
   "outputs": [
    {
     "name": "stderr",
     "output_type": "stream",
     "text": [
      "C:\\Users\\wogur\\Anaconda3\\lib\\site-packages\\h5py\\__init__.py:36: FutureWarning: Conversion of the second argument of issubdtype from `float` to `np.floating` is deprecated. In future, it will be treated as `np.float64 == np.dtype(float).type`.\n",
      "  from ._conv import register_converters as _register_converters\n"
     ]
    }
   ],
   "source": [
    "from skimage.transform import resize\n",
    "import nibabel as nib\n",
    "from glob import glob\n"
   ]
  },
  {
   "cell_type": "code",
   "execution_count": 2,
   "metadata": {},
   "outputs": [
    {
     "name": "stdout",
     "output_type": "stream",
     "text": [
      "40\n"
     ]
    }
   ],
   "source": [
    "dataset_dir = '../dataset/ct_train_test/ct_train/'\n",
    "pair_list = glob('{}/*.nii/*.nii'.format(dataset_dir))\n",
    "print(len(pair_list))"
   ]
  },
  {
   "cell_type": "code",
   "execution_count": 3,
   "metadata": {},
   "outputs": [],
   "source": [
    "rename_map = [0, 205, 420, 500, 550, 600, 820, 850]"
   ]
  },
  {
   "cell_type": "code",
   "execution_count": 4,
   "metadata": {},
   "outputs": [],
   "source": [
    "def load_data_pairs(pair_list, resize_r, rename_map):\n",
    "    \"\"\"load all volume pairs\"\"\"\n",
    "    img_clec = []\n",
    "    label_clec = []\n",
    "\n",
    "    # rename_map = [0, 205, 420, 500, 550, 600, 820, 850]\n",
    "    for k in range(0, len(pair_list), 2):\n",
    "        img_path = pair_list[k]\n",
    "        lab_path = pair_list[k+1]\n",
    "        img_data = nib.load(img_path).get_data().copy()\n",
    "        lab_data = nib.load(lab_path).get_data().copy()\n",
    "\n",
    "        ###preprocessing\n",
    "        # resize\n",
    "        resize_dim = (np.array(img_data.shape) * resize_r).astype('int')\n",
    "        img_data = resize(img_data, resize_dim, order=1, preserve_range=True)\n",
    "        lab_data = resize(lab_data, resize_dim, order=0, preserve_range=True)\n",
    "        lab_r_data = np.zeros(lab_data.shape, dtype='int32')\n",
    "\n",
    "        # rename labels\n",
    "        for i in range(len(rename_map)):\n",
    "            lab_r_data[lab_data == rename_map[i]] = i\n",
    "\n",
    "        # for s in range(img_data.shape[2]):\n",
    "        #     cv2.imshow('img', np.concatenate(((img_data[:,:,s]).astype('uint8'), (lab_r_data[:,:,s]*30).astype('uint8')), axis=1))\n",
    "        #     cv2.waitKey(20)\n",
    "\n",
    "        img_clec.append(img_data)\n",
    "        label_clec.append(lab_r_data)\n",
    "\n",
    "    return img_clec, label_clec"
   ]
  },
  {
   "cell_type": "code",
   "execution_count": 5,
   "metadata": {},
   "outputs": [
    {
     "name": "stderr",
     "output_type": "stream",
     "text": [
      "C:\\Users\\wogur\\Anaconda3\\lib\\site-packages\\skimage\\transform\\_warps.py:84: UserWarning: The default mode, 'constant', will be changed to 'reflect' in skimage 0.15.\n",
      "  warn(\"The default mode, 'constant', will be changed to 'reflect' in \"\n"
     ]
    }
   ],
   "source": [
    "img, label = load_data_pairs(pair_list[:2], 0.6, rename_map)"
   ]
  },
  {
   "cell_type": "code",
   "execution_count": 7,
   "metadata": {},
   "outputs": [
    {
     "name": "stdout",
     "output_type": "stream",
     "text": [
      "(307, 307, 217)\n",
      "(307, 307, 217)\n"
     ]
    }
   ],
   "source": [
    "print(img[0].shape)\n",
    "print(label[0].shape)"
   ]
  },
  {
   "cell_type": "code",
   "execution_count": null,
   "metadata": {},
   "outputs": [],
   "source": []
  }
 ],
 "metadata": {
  "hide_input": false,
  "kernelspec": {
   "display_name": "Python 3",
   "language": "python",
   "name": "python3"
  },
  "language_info": {
   "codemirror_mode": {
    "name": "ipython",
    "version": 3
   },
   "file_extension": ".py",
   "mimetype": "text/x-python",
   "name": "python",
   "nbconvert_exporter": "python",
   "pygments_lexer": "ipython3",
   "version": "3.6.5"
  },
  "toc": {
   "base_numbering": 1,
   "nav_menu": {},
   "number_sections": true,
   "sideBar": true,
   "skip_h1_title": false,
   "title_cell": "Table of Contents",
   "title_sidebar": "Contents",
   "toc_cell": true,
   "toc_position": {},
   "toc_section_display": true,
   "toc_window_display": false
  },
  "varInspector": {
   "cols": {
    "lenName": 16,
    "lenType": 16,
    "lenVar": 40
   },
   "kernels_config": {
    "python": {
     "delete_cmd_postfix": "",
     "delete_cmd_prefix": "del ",
     "library": "var_list.py",
     "varRefreshCmd": "print(var_dic_list())"
    },
    "r": {
     "delete_cmd_postfix": ") ",
     "delete_cmd_prefix": "rm(",
     "library": "var_list.r",
     "varRefreshCmd": "cat(var_dic_list()) "
    }
   },
   "types_to_exclude": [
    "module",
    "function",
    "builtin_function_or_method",
    "instance",
    "_Feature"
   ],
   "window_display": false
  }
 },
 "nbformat": 4,
 "nbformat_minor": 2
}
