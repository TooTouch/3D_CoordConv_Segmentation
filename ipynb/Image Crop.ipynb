{
 "cells": [
  {
   "cell_type": "markdown",
   "metadata": {
    "toc": true
   },
   "source": [
    "<h1>Table of Contents<span class=\"tocSkip\"></span></h1>\n",
    "<div class=\"toc\"><ul class=\"toc-item\"><li><span><a href=\"#Module\" data-toc-modified-id=\"Module-1\"><span class=\"toc-item-num\">1&nbsp;&nbsp;</span>Module</a></span></li><li><span><a href=\"#File-Directory\" data-toc-modified-id=\"File-Directory-2\"><span class=\"toc-item-num\">2&nbsp;&nbsp;</span>File Directory</a></span></li><li><span><a href=\"#Load-data\" data-toc-modified-id=\"Load-data-3\"><span class=\"toc-item-num\">3&nbsp;&nbsp;</span>Load data</a></span></li><li><span><a href=\"#crop\" data-toc-modified-id=\"crop-4\"><span class=\"toc-item-num\">4&nbsp;&nbsp;</span>crop</a></span></li></ul></div>"
   ]
  },
  {
   "cell_type": "markdown",
   "metadata": {},
   "source": [
    "# Module"
   ]
  },
  {
   "cell_type": "code",
   "execution_count": 250,
   "metadata": {},
   "outputs": [],
   "source": [
    "import nibabel as nib\n",
    "import numpy as np\n",
    "import os\n",
    "\n",
    "import matplotlib.pyplot as plt"
   ]
  },
  {
   "cell_type": "markdown",
   "metadata": {},
   "source": [
    "# File Directory"
   ]
  },
  {
   "cell_type": "code",
   "execution_count": 251,
   "metadata": {},
   "outputs": [
    {
     "name": "stdout",
     "output_type": "stream",
     "text": [
      "Root directory:  D:\\Project\\DLC\\TTokDak\n",
      "Dataset directory:  D:\\Project\\DLC\\TTokDak\\dataset\n",
      "Predict image directory:  D:\\Project\\DLC\\TTokDak\\predict_image/Trainset/Background or Not\n"
     ]
    }
   ],
   "source": [
    "root_dir = os.path.abspath(os.path.join(os.getcwd(),'..'))\n",
    "dataset_dir = os.path.join(root_dir,'dataset')\n",
    "predict_image_dir = os.path.join(root_dir,'predict_image/Trainset/Background or Not')\n",
    "print('Root directory: ',root_dir)\n",
    "print('Dataset directory: ',dataset_dir)\n",
    "print('Predict image directory: ',predict_image_dir)"
   ]
  },
  {
   "cell_type": "markdown",
   "metadata": {},
   "source": [
    "# Load data"
   ]
  },
  {
   "cell_type": "code",
   "execution_count": 254,
   "metadata": {},
   "outputs": [],
   "source": [
    "ct0_img_nii = nib.load(dataset_dir + '/ct_img.nii')\n",
    "ct0_label_nii = nib.load(dataset_dir + '/ct_label.nii')\n",
    "ct0_pred_nii = nib.load(predict_image_dir + '/CT_train_pred_0.nii')\n",
    "\n",
    "ct0_img = ct0_img_nii.get_data()\n",
    "ct0_label = ct0_label_nii.get_data()\n",
    "ct0_pred = ct0_pred_nii.get_data().reshape(ct0_label.shape)"
   ]
  },
  {
   "cell_type": "code",
   "execution_count": 255,
   "metadata": {},
   "outputs": [
    {
     "name": "stdout",
     "output_type": "stream",
     "text": [
      "ct0_img shape:  (128, 128, 128, 1)\n",
      "ct0_label shape:  (128, 128, 128)\n",
      "ct0_pred shape:  (128, 128, 128)\n"
     ]
    }
   ],
   "source": [
    "print('ct0_img shape: ',ct0_img.shape)\n",
    "print('ct0_label shape: ',ct0_label.shape)\n",
    "print('ct0_pred shape: ',ct0_pred.shape)"
   ]
  },
  {
   "cell_type": "markdown",
   "metadata": {},
   "source": [
    "# crop\n",
    "1. x축에서 세로로 한번\n",
    "2. x축에서 가로로 한번\n",
    "3. y축에서 가로로 한번 \n",
    "끝"
   ]
  },
  {
   "cell_type": "code",
   "execution_count": 257,
   "metadata": {},
   "outputs": [
    {
     "name": "stdout",
     "output_type": "stream",
     "text": [
      "axis0 shape:  (128, 128)\n",
      "axis1.shape:  (128, 128)\n",
      "axis2.shape:  (128, 128)\n"
     ]
    },
    {
     "data": {
      "text/plain": [
       "<matplotlib.image.AxesImage at 0x1bcd62a0cf8>"
      ]
     },
     "execution_count": 257,
     "metadata": {},
     "output_type": "execute_result"
    },
    {
     "data": {
      "image/png": "[encoded data removed]",
      "text/plain": [
       "<Figure size 1440x720 with 3 Axes>"
      ]
     },
     "metadata": {},
     "output_type": "display_data"
    }
   ],
   "source": [
    "x_axis = np.sum(ct0_pred, axis=1)\n",
    "y_axis = np.sum(ct0_pred, axis=2)\n",
    "z_axis = np.sum(ct0_pred, axis=0)\n",
    "print('axis0 shape: ',x_axis.shape)\n",
    "print('axis1.shape: ',y_axis.shape)\n",
    "print('axis2.shape: ',z_axis.shape)\n",
    "\n",
    "x_axis[x_axis > 0] = 1 \n",
    "y_axis[y_axis > 0] = 1\n",
    "z_axis[z_axis > 0] = 1\n",
    "\n",
    "f, ax = plt.subplots(1,3,figsize=(20,10))\n",
    "ax[0].imshow(x_axis)\n",
    "ax[1].imshow(y_axis)\n",
    "ax[2].imshow(z_axis)"
   ]
  },
  {
   "cell_type": "code",
   "execution_count": 264,
   "metadata": {},
   "outputs": [],
   "source": [
    "pad = 1"
   ]
  },
  {
   "cell_type": "code",
   "execution_count": 293,
   "metadata": {},
   "outputs": [],
   "source": [
    "predict_image_list = os.listdir(predict_image_dir)\n",
    "\n",
    "\n",
    "for i in range(len(predict_image_list)):\n",
    "    img = nib.load(predict_image_dir + '/' + predict_image_list[i]).get_data()\n",
    "    \n",
    "    z = np.sum(img, axis=0)\n",
    "    x = np.sum(img, axis=1)\n",
    "    \n",
    "    x_x_idx = np.where(np.sum(x, axis=0))[0]\n",
    "    z_y_idx = np.where(np.sum(z, axis=1))[0]\n",
    "    x_y_idx = np.where(np.sum(x, axis=1))[0]\n",
    "    \n",
    "    xyz[i] = np.array([len(x_x_idx), len(z_y_idx), len(x_y_idx)], dtype=int)\n",
    "    xyz01[i] = np.array([[x_y_idx[0],x_y_idx[-1]], [z_y_idx[0],z_y_idx[-1]], [x_x_idx[0],x_x_idx[-1]]], dtype=int)"
   ]
  },
  {
   "cell_type": "code",
   "execution_count": 300,
   "metadata": {},
   "outputs": [
    {
     "name": "stdout",
     "output_type": "stream",
     "text": [
      "가장 긴 길이:  115\n"
     ]
    }
   ],
   "source": [
    "print('가장 긴 길이: ',np.max(xyz))"
   ]
  },
  {
   "cell_type": "code",
   "execution_count": 302,
   "metadata": {},
   "outputs": [
    {
     "data": {
      "text/plain": [
       "82.33333333333333"
      ]
     },
     "execution_count": 302,
     "metadata": {},
     "output_type": "execute_result"
    }
   ],
   "source": [
    "np.mean(xyz)"
   ]
  },
  {
   "cell_type": "code",
   "execution_count": null,
   "metadata": {},
   "outputs": [],
   "source": [
    "82 x 82 x 82"
   ]
  },
  {
   "cell_type": "code",
   "execution_count": 301,
   "metadata": {},
   "outputs": [
    {
     "data": {
      "text/plain": [
       "array([[ 83,  98, 107],\n",
       "       [ 59,  65,  92],\n",
       "       [ 68,  95, 100],\n",
       "       [ 52,  78,  98],\n",
       "       [ 56,  93,  97],\n",
       "       [102, 104, 110],\n",
       "       [ 82,  77,  79],\n",
       "       [ 82,  88, 115],\n",
       "       [ 63,  61,  79],\n",
       "       [ 58,  89,  90],\n",
       "       [ 71,  74, 103],\n",
       "       [ 84, 100, 107],\n",
       "       [ 85,  88, 108],\n",
       "       [ 61,  82,  98],\n",
       "       [ 52,  78,  98],\n",
       "       [ 68,  68,  83],\n",
       "       [ 72,  76, 100],\n",
       "       [ 55,  74,  79],\n",
       "       [ 65,  82,  85],\n",
       "       [ 59,  76,  89]])"
      ]
     },
     "execution_count": 301,
     "metadata": {},
     "output_type": "execute_result"
    }
   ],
   "source": [
    "xyz"
   ]
  },
  {
   "cell_type": "code",
   "execution_count": 295,
   "metadata": {},
   "outputs": [
    {
     "data": {
      "text/plain": [
       "array([[  9, 115],\n",
       "       [ 13, 110],\n",
       "       [ 38, 120]])"
      ]
     },
     "execution_count": 295,
     "metadata": {},
     "output_type": "execute_result"
    }
   ],
   "source": [
    "xyz01[0]"
   ]
  },
  {
   "cell_type": "code",
   "execution_count": 296,
   "metadata": {},
   "outputs": [
    {
     "data": {
      "text/plain": [
       "(109, 100, 85)"
      ]
     },
     "execution_count": 296,
     "metadata": {},
     "output_type": "execute_result"
    }
   ],
   "source": [
    "crop_img = ct0_pred[xyz01[0][0][0]-pad:xyz01[0][0][1]+pad+1,\n",
    "                    xyz01[0][1][0]-pad:xyz01[0][1][1]+pad+1,\n",
    "                    xyz01[0][2][0]-pad:xyz01[0][2][1]+pad+1]\n",
    "crop_img.shape"
   ]
  },
  {
   "cell_type": "code",
   "execution_count": 298,
   "metadata": {},
   "outputs": [
    {
     "data": {
      "image/png": "[encoded data removed]",
      "text/plain": [
       "<Figure size 1440x720 with 3 Axes>"
      ]
     },
     "metadata": {},
     "output_type": "display_data"
    },
    {
     "data": {
      "image/png": "[encoded data removed]",
      "text/plain": [
       "<Figure size 1440x720 with 3 Axes>"
      ]
     },
     "metadata": {},
     "output_type": "display_data"
    }
   ],
   "source": [
    "f, ax = plt.subplots(1,3, figsize=(20,10))\n",
    "ax[0].imshow(ct0_pred[64,:,:])\n",
    "ax[1].imshow(ct0_pred[:,64,:])\n",
    "ax[2].imshow(ct0_pred[:,:,64])\n",
    "plt.show()\n",
    "\n",
    "f, ax = plt.subplots(1,3, figsize=(20,10))\n",
    "ax[0].imshow(crop_img[54,:,:])\n",
    "ax[1].imshow(crop_img[:,64,:])\n",
    "ax[2].imshow(crop_img[:,:,42])\n",
    "plt.show()"
   ]
  },
  {
   "cell_type": "code",
   "execution_count": null,
   "metadata": {},
   "outputs": [],
   "source": []
  }
 ],
 "metadata": {
  "kernelspec": {
   "display_name": "Python 3",
   "language": "python",
   "name": "python3"
  },
  "language_info": {
   "codemirror_mode": {
    "name": "ipython",
    "version": 3
   },
   "file_extension": ".py",
   "mimetype": "text/x-python",
   "name": "python",
   "nbconvert_exporter": "python",
   "pygments_lexer": "ipython3",
   "version": "3.6.5"
  },
  "toc": {
   "base_numbering": 1,
   "nav_menu": {},
   "number_sections": true,
   "sideBar": true,
   "skip_h1_title": false,
   "title_cell": "Table of Contents",
   "title_sidebar": "Contents",
   "toc_cell": true,
   "toc_position": {
    "height": "calc(100% - 180px)",
    "left": "10px",
    "top": "150px",
    "width": "427px"
   },
   "toc_section_display": true,
   "toc_window_display": true
  },
  "varInspector": {
   "cols": {
    "lenName": 16,
    "lenType": 16,
    "lenVar": 40
   },
   "kernels_config": {
    "python": {
     "delete_cmd_postfix": "",
     "delete_cmd_prefix": "del ",
     "library": "var_list.py",
     "varRefreshCmd": "print(var_dic_list())"
    },
    "r": {
     "delete_cmd_postfix": ") ",
     "delete_cmd_prefix": "rm(",
     "library": "var_list.r",
     "varRefreshCmd": "cat(var_dic_list()) "
    }
   },
   "position": {
    "height": "663px",
    "left": "1752.32px",
    "right": "20px",
    "top": "120.986px",
    "width": "350px"
   },
   "types_to_exclude": [
    "module",
    "function",
    "builtin_function_or_method",
    "instance",
    "_Feature"
   ],
   "window_display": true
  }
 },
 "nbformat": 4,
 "nbformat_minor": 2
}
