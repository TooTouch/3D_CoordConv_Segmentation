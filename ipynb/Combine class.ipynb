{
 "cells": [
  {
   "cell_type": "markdown",
   "metadata": {
    "toc": true
   },
   "source": [
    "<h1>Table of Contents<span class=\"tocSkip\"></span></h1>\n",
    "<div class=\"toc\"><ul class=\"toc-item\"></ul></div>"
   ]
  },
  {
   "cell_type": "code",
   "execution_count": 13,
   "metadata": {},
   "outputs": [],
   "source": [
    "import h5py\n",
    "import numpy as np\n",
    "\n",
    "from keras.utils import to_categorical\n",
    "from sklearn import preprocessing"
   ]
  },
  {
   "cell_type": "code",
   "execution_count": 4,
   "metadata": {},
   "outputs": [
    {
     "data": {
      "text/plain": [
       "['ct_image_0',\n",
       " 'ct_image_1',\n",
       " 'ct_image_10',\n",
       " 'ct_image_11',\n",
       " 'ct_image_12',\n",
       " 'ct_image_13',\n",
       " 'ct_image_14',\n",
       " 'ct_image_15',\n",
       " 'ct_image_16',\n",
       " 'ct_image_17',\n",
       " 'ct_image_18',\n",
       " 'ct_image_19',\n",
       " 'ct_image_2',\n",
       " 'ct_image_3',\n",
       " 'ct_image_4',\n",
       " 'ct_image_5',\n",
       " 'ct_image_6',\n",
       " 'ct_image_7',\n",
       " 'ct_image_8',\n",
       " 'ct_image_9',\n",
       " 'ct_image_mask_0',\n",
       " 'ct_image_mask_1',\n",
       " 'ct_image_mask_10',\n",
       " 'ct_image_mask_11',\n",
       " 'ct_image_mask_12',\n",
       " 'ct_image_mask_13',\n",
       " 'ct_image_mask_14',\n",
       " 'ct_image_mask_15',\n",
       " 'ct_image_mask_16',\n",
       " 'ct_image_mask_17',\n",
       " 'ct_image_mask_18',\n",
       " 'ct_image_mask_19',\n",
       " 'ct_image_mask_2',\n",
       " 'ct_image_mask_3',\n",
       " 'ct_image_mask_4',\n",
       " 'ct_image_mask_5',\n",
       " 'ct_image_mask_6',\n",
       " 'ct_image_mask_7',\n",
       " 'ct_image_mask_8',\n",
       " 'ct_image_mask_9',\n",
       " 'ct_label_0',\n",
       " 'ct_label_1',\n",
       " 'ct_label_10',\n",
       " 'ct_label_11',\n",
       " 'ct_label_12',\n",
       " 'ct_label_13',\n",
       " 'ct_label_14',\n",
       " 'ct_label_15',\n",
       " 'ct_label_16',\n",
       " 'ct_label_17',\n",
       " 'ct_label_18',\n",
       " 'ct_label_19',\n",
       " 'ct_label_2',\n",
       " 'ct_label_3',\n",
       " 'ct_label_4',\n",
       " 'ct_label_5',\n",
       " 'ct_label_6',\n",
       " 'ct_label_7',\n",
       " 'ct_label_8',\n",
       " 'ct_label_9',\n",
       " 'ct_label_split_0',\n",
       " 'ct_label_split_1',\n",
       " 'ct_label_split_10',\n",
       " 'ct_label_split_11',\n",
       " 'ct_label_split_12',\n",
       " 'ct_label_split_13',\n",
       " 'ct_label_split_14',\n",
       " 'ct_label_split_15',\n",
       " 'ct_label_split_16',\n",
       " 'ct_label_split_17',\n",
       " 'ct_label_split_18',\n",
       " 'ct_label_split_19',\n",
       " 'ct_label_split_2',\n",
       " 'ct_label_split_3',\n",
       " 'ct_label_split_4',\n",
       " 'ct_label_split_5',\n",
       " 'ct_label_split_6',\n",
       " 'ct_label_split_7',\n",
       " 'ct_label_split_8',\n",
       " 'ct_label_split_9',\n",
       " 'mr_image_0',\n",
       " 'mr_image_1',\n",
       " 'mr_image_10',\n",
       " 'mr_image_11',\n",
       " 'mr_image_12',\n",
       " 'mr_image_13',\n",
       " 'mr_image_14',\n",
       " 'mr_image_15',\n",
       " 'mr_image_16',\n",
       " 'mr_image_17',\n",
       " 'mr_image_18',\n",
       " 'mr_image_19',\n",
       " 'mr_image_2',\n",
       " 'mr_image_3',\n",
       " 'mr_image_4',\n",
       " 'mr_image_5',\n",
       " 'mr_image_6',\n",
       " 'mr_image_7',\n",
       " 'mr_image_8',\n",
       " 'mr_image_9',\n",
       " 'mr_image_mask_0',\n",
       " 'mr_image_mask_1',\n",
       " 'mr_image_mask_10',\n",
       " 'mr_image_mask_11',\n",
       " 'mr_image_mask_12',\n",
       " 'mr_image_mask_13',\n",
       " 'mr_image_mask_14',\n",
       " 'mr_image_mask_15',\n",
       " 'mr_image_mask_16',\n",
       " 'mr_image_mask_17',\n",
       " 'mr_image_mask_18',\n",
       " 'mr_image_mask_19',\n",
       " 'mr_image_mask_2',\n",
       " 'mr_image_mask_3',\n",
       " 'mr_image_mask_4',\n",
       " 'mr_image_mask_5',\n",
       " 'mr_image_mask_6',\n",
       " 'mr_image_mask_7',\n",
       " 'mr_image_mask_8',\n",
       " 'mr_image_mask_9',\n",
       " 'mr_label_0',\n",
       " 'mr_label_1',\n",
       " 'mr_label_10',\n",
       " 'mr_label_11',\n",
       " 'mr_label_12',\n",
       " 'mr_label_13',\n",
       " 'mr_label_14',\n",
       " 'mr_label_15',\n",
       " 'mr_label_16',\n",
       " 'mr_label_17',\n",
       " 'mr_label_18',\n",
       " 'mr_label_19',\n",
       " 'mr_label_2',\n",
       " 'mr_label_3',\n",
       " 'mr_label_4',\n",
       " 'mr_label_5',\n",
       " 'mr_label_6',\n",
       " 'mr_label_7',\n",
       " 'mr_label_8',\n",
       " 'mr_label_9',\n",
       " 'mr_label_split_0',\n",
       " 'mr_label_split_1',\n",
       " 'mr_label_split_10',\n",
       " 'mr_label_split_11',\n",
       " 'mr_label_split_12',\n",
       " 'mr_label_split_13',\n",
       " 'mr_label_split_14',\n",
       " 'mr_label_split_15',\n",
       " 'mr_label_split_16',\n",
       " 'mr_label_split_17',\n",
       " 'mr_label_split_18',\n",
       " 'mr_label_split_19',\n",
       " 'mr_label_split_2',\n",
       " 'mr_label_split_3',\n",
       " 'mr_label_split_4',\n",
       " 'mr_label_split_5',\n",
       " 'mr_label_split_6',\n",
       " 'mr_label_split_7',\n",
       " 'mr_label_split_8',\n",
       " 'mr_label_split_9']"
      ]
     },
     "execution_count": 4,
     "metadata": {},
     "output_type": "execute_result"
    }
   ],
   "source": [
    "hf = h5py.File('../dataset/h5py/train_hf128_7', 'r')\n",
    "list(hf.keys())"
   ]
  },
  {
   "cell_type": "code",
   "execution_count": 23,
   "metadata": {},
   "outputs": [
    {
     "data": {
      "text/plain": [
       "(128, 128, 128, 8)"
      ]
     },
     "execution_count": 23,
     "metadata": {},
     "output_type": "execute_result"
    }
   ],
   "source": [
    "hf['ct_label_0'].shape"
   ]
  },
  {
   "cell_type": "code",
   "execution_count": 30,
   "metadata": {},
   "outputs": [
    {
     "data": {
      "text/plain": [
       "array([0, 1, 2, 3, 4, 5, 6, 7], dtype=int64)"
      ]
     },
     "execution_count": 30,
     "metadata": {},
     "output_type": "execute_result"
    }
   ],
   "source": [
    "np.unique(np.argmax(np.array(hf['ct_label_0']), axis=-1))"
   ]
  },
  {
   "cell_type": "code",
   "execution_count": 21,
   "metadata": {},
   "outputs": [
    {
     "name": "stdout",
     "output_type": "stream",
     "text": [
      "[1 0 2 3]\n"
     ]
    }
   ],
   "source": [
    "a = np.array([200,100,300,400])\n",
    "label_encoder = preprocessing.LabelEncoder()\n",
    "a = label_encoder.fit_transform(a)\n",
    "print(a)"
   ]
  },
  {
   "cell_type": "code",
   "execution_count": 22,
   "metadata": {},
   "outputs": [
    {
     "name": "stdout",
     "output_type": "stream",
     "text": [
      "[1 2 0 3]\n"
     ]
    }
   ],
   "source": [
    "a = np.array([200,300,100,400])\n",
    "\n",
    "label_encoder = preprocessing.LabelEncoder()\n",
    "a = label_encoder.fit_transform(a)\n",
    "\n",
    "print(a)"
   ]
  },
  {
   "cell_type": "code",
   "execution_count": null,
   "metadata": {},
   "outputs": [],
   "source": []
  }
 ],
 "metadata": {
  "hide_input": false,
  "kernelspec": {
   "display_name": "Python 3",
   "language": "python",
   "name": "python3"
  },
  "language_info": {
   "codemirror_mode": {
    "name": "ipython",
    "version": 3
   },
   "file_extension": ".py",
   "mimetype": "text/x-python",
   "name": "python",
   "nbconvert_exporter": "python",
   "pygments_lexer": "ipython3",
   "version": "3.6.5"
  },
  "toc": {
   "base_numbering": 1,
   "nav_menu": {},
   "number_sections": true,
   "sideBar": true,
   "skip_h1_title": false,
   "title_cell": "Table of Contents",
   "title_sidebar": "Contents",
   "toc_cell": true,
   "toc_position": {},
   "toc_section_display": true,
   "toc_window_display": false
  },
  "varInspector": {
   "cols": {
    "lenName": 16,
    "lenType": 16,
    "lenVar": 40
   },
   "kernels_config": {
    "python": {
     "delete_cmd_postfix": "",
     "delete_cmd_prefix": "del ",
     "library": "var_list.py",
     "varRefreshCmd": "print(var_dic_list())"
    },
    "r": {
     "delete_cmd_postfix": ") ",
     "delete_cmd_prefix": "rm(",
     "library": "var_list.r",
     "varRefreshCmd": "cat(var_dic_list()) "
    }
   },
   "types_to_exclude": [
    "module",
    "function",
    "builtin_function_or_method",
    "instance",
    "_Feature"
   ],
   "window_display": false
  }
 },
 "nbformat": 4,
 "nbformat_minor": 2
}
