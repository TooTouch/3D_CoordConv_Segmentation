{
 "cells": [
  {
   "cell_type": "code",
   "execution_count": 47,
   "metadata": {},
   "outputs": [],
   "source": [
    "import os\n",
    "import numpy as np\n",
    "import h5py"
   ]
  },
  {
   "cell_type": "code",
   "execution_count": 48,
   "metadata": {},
   "outputs": [],
   "source": [
    "cv_rate = 0.8\n",
    "\n",
    "subjects = list(range(20)) # 20 is Number of subjects\n",
    "choice = np.random.choice(subjects, size=int(20*cv_rate), replace=False)\n",
    "train_subjects = list(map(lambda x: subjects.pop(x), sorted(choice, key=lambda x: -x)))\n",
    "valid_subjects = subjects"
   ]
  },
  {
   "cell_type": "code",
   "execution_count": 49,
   "metadata": {},
   "outputs": [
    {
     "name": "stdout",
     "output_type": "stream",
     "text": [
      "train_subjects:  [18, 17, 16, 15, 14, 13, 12, 11, 10, 8, 7, 6, 5, 3, 1, 0]\n",
      "valid_subjects:  [2, 4, 9, 19]\n"
     ]
    }
   ],
   "source": [
    "print('train_subjects: ',train_subjects)\n",
    "print('valid_subjects: ',valid_subjects)"
   ]
  },
  {
   "cell_type": "code",
   "execution_count": 57,
   "metadata": {},
   "outputs": [],
   "source": [
    "def data_gen(batch_size, subjects):\n",
    "    \"\"\"\n",
    "    Generator to yield inputs and their labels in batches.\n",
    "    \"\"\"\n",
    "    dataset = 'CT'\n",
    "    dimension = '2D'\n",
    "    size = 256\n",
    "    channel = 1\n",
    "    d = 2 if dimension=='2D' else 3\n",
    "    print('=' * 100)\n",
    "    print('Load train data')\n",
    "    print('Train data directory: ', '../dataset/h5py/train_hf256_1')\n",
    "    train_hf = h5py.File('../dataset/h5py/train_hf256_1', 'r')\n",
    "\n",
    "    while True:\n",
    "        batch_imgs = np.array([]).reshape((0,) + (size,) * d + (1,))\n",
    "        batch_labels = np.array([]).reshape((0,) + (size,) * d + (channel,))\n",
    "        for i in range(batch_size):\n",
    "            idx = np.random.choice(subjects)\n",
    "            img = np.array(train_hf['{}_image_{}'.format(dataset.lower(),idx)]).reshape((-1,) + (size,) * d + (1,))\n",
    "            label = np.array(train_hf['{}_label_{}'.format(dataset.lower(),idx)]).reshape((-1,) + (size,) * d + (channel,))\n",
    "\n",
    "            img /= 255.\n",
    "            \n",
    "            batch_imgs = np.vstack([batch_imgs, img])\n",
    "            batch_labels = np.vstack([batch_labels, label])\n",
    "\n",
    "            for i in range(batch_size):\n",
    "                    \n",
    "                yield batch_imgs[batch_size*i:batch_size*(i+1)], batch_labels[batch_size*i:batch_size*(i+1)]"
   ]
  },
  {
   "cell_type": "code",
   "execution_count": 58,
   "metadata": {},
   "outputs": [],
   "source": [
    "generator = data_gen(batch_size=4, subjects=train_subjects)"
   ]
  },
  {
   "cell_type": "code",
   "execution_count": 62,
   "metadata": {
    "scrolled": true
   },
   "outputs": [],
   "source": [
    "imgs, labels = next(generator)"
   ]
  },
  {
   "cell_type": "code",
   "execution_count": 63,
   "metadata": {},
   "outputs": [
    {
     "data": {
      "text/plain": [
       "(4, 256, 256, 1)"
      ]
     },
     "execution_count": 63,
     "metadata": {},
     "output_type": "execute_result"
    }
   ],
   "source": [
    "imgs.shape"
   ]
  },
  {
   "cell_type": "code",
   "execution_count": 64,
   "metadata": {},
   "outputs": [
    {
     "data": {
      "text/plain": [
       "(4, 256, 256, 1)"
      ]
     },
     "execution_count": 64,
     "metadata": {},
     "output_type": "execute_result"
    }
   ],
   "source": [
    "labels.shape"
   ]
  },
  {
   "cell_type": "code",
   "execution_count": null,
   "metadata": {},
   "outputs": [],
   "source": []
  }
 ],
 "metadata": {
  "kernelspec": {
   "display_name": "Python 3",
   "language": "python",
   "name": "python3"
  },
  "language_info": {
   "codemirror_mode": {
    "name": "ipython",
    "version": 3
   },
   "file_extension": ".py",
   "mimetype": "text/x-python",
   "name": "python",
   "nbconvert_exporter": "python",
   "pygments_lexer": "ipython3",
   "version": "3.6.5"
  }
 },
 "nbformat": 4,
 "nbformat_minor": 2
}
