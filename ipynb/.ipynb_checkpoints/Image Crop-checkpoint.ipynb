{
 "cells": [
  {
   "cell_type": "markdown",
   "metadata": {
    "toc": true
   },
   "source": [
    "<h1>Table of Contents<span class=\"tocSkip\"></span></h1>\n",
    "<div class=\"toc\"><ul class=\"toc-item\"><li><span><a href=\"#Module\" data-toc-modified-id=\"Module-1\"><span class=\"toc-item-num\">1&nbsp;&nbsp;</span>Module</a></span></li><li><span><a href=\"#File-Directory\" data-toc-modified-id=\"File-Directory-2\"><span class=\"toc-item-num\">2&nbsp;&nbsp;</span>File Directory</a></span></li><li><span><a href=\"#Load-data\" data-toc-modified-id=\"Load-data-3\"><span class=\"toc-item-num\">3&nbsp;&nbsp;</span>Load data</a></span></li><li><span><a href=\"#crop-범위-정하는-방법-1\" data-toc-modified-id=\"crop-범위-정하는-방법-1-4\"><span class=\"toc-item-num\">4&nbsp;&nbsp;</span>crop 범위 정하는 방법 1</a></span></li></ul></div>"
   ]
  },
  {
   "cell_type": "markdown",
   "metadata": {},
   "source": [
    "# Module"
   ]
  },
  {
   "cell_type": "code",
   "execution_count": 1,
   "metadata": {},
   "outputs": [
    {
     "name": "stderr",
     "output_type": "stream",
     "text": [
      "C:\\Users\\wogur\\Anaconda3\\lib\\site-packages\\h5py\\__init__.py:36: FutureWarning: Conversion of the second argument of issubdtype from `float` to `np.floating` is deprecated. In future, it will be treated as `np.float64 == np.dtype(float).type`.\n",
      "  from ._conv import register_converters as _register_converters\n"
     ]
    }
   ],
   "source": [
    "import nibabel as nib\n",
    "import numpy as np\n",
    "import os"
   ]
  },
  {
   "cell_type": "markdown",
   "metadata": {},
   "source": [
    "# File Directory"
   ]
  },
  {
   "cell_type": "code",
   "execution_count": 2,
   "metadata": {},
   "outputs": [
    {
     "name": "stdout",
     "output_type": "stream",
     "text": [
      "Root directory:  D:\\Project\\DLC\\TTokDak\n",
      "Dataset directory:  D:\\Project\\DLC\\TTokDak\\dataset\n",
      "Predict image directory:  D:\\Project\\DLC\\TTokDak\\predict_image/Trainset/Background or Not\n"
     ]
    }
   ],
   "source": [
    "root_dir = os.path.abspath(os.path.join(os.getcwd(),'..'))\n",
    "dataset_dir = os.path.join(root_dir,'dataset')\n",
    "predict_image_dir = os.path.join(root_dir,'predict_image/Trainset/Background or Not')\n",
    "print('Root directory: ',root_dir)\n",
    "print('Dataset directory: ',dataset_dir)\n",
    "print('Predict image directory: ',predict_image_dir)"
   ]
  },
  {
   "cell_type": "markdown",
   "metadata": {},
   "source": [
    "# Load data"
   ]
  },
  {
   "cell_type": "code",
   "execution_count": 3,
   "metadata": {},
   "outputs": [],
   "source": [
    "ct0_img_nii = nib.load(dataset_dir + '/ct_img.nii')\n",
    "ct0_label_nii = nib.load(dataset_dir + '/ct_label.nii')\n",
    "ct0_pred_nii = nib.load(predict_image_dir + '/CT_train_pred_0.nii')\n",
    "\n",
    "ct0_img = ct0_img_nii.get_data()\n",
    "ct0_label = ct0_label_nii.get_data()\n",
    "ct0_pred = ct0_pred_nii.get_data()"
   ]
  },
  {
   "cell_type": "code",
   "execution_count": 4,
   "metadata": {},
   "outputs": [
    {
     "name": "stdout",
     "output_type": "stream",
     "text": [
      "ct0_img shape:  (128, 128, 128, 1)\n",
      "ct0_label shape:  (128, 128, 128)\n",
      "ct0_pred shape:  (128, 128, 128, 1)\n"
     ]
    }
   ],
   "source": [
    "print('ct0_img shape: ',ct0_img.shape)\n",
    "print('ct0_label shape: ',ct0_label.shape)\n",
    "print('ct0_pred shape: ',ct0_pred.shape)"
   ]
  },
  {
   "cell_type": "markdown",
   "metadata": {},
   "source": [
    "# crop 범위 정하는 방법 1\n",
    "\n",
    "1. 3개의 축별로 모두 합한다.\n",
    "2. 각 출별 가로 세로 0이 아닌 값의 길이를 구한다.\n",
    "3. 가장 긴 값을 기준으로 정육면체로 crop한다."
   ]
  },
  {
   "cell_type": "code",
   "execution_count": 5,
   "metadata": {},
   "outputs": [
    {
     "name": "stdout",
     "output_type": "stream",
     "text": [
      "Reshaped ct0_pred:  (128, 128, 128)\n"
     ]
    }
   ],
   "source": [
    "ct0_pred = ct0_pred.reshape(ct0_pred.shape[:-1])\n",
    "print('Reshaped ct0_pred: ',ct0_pred.shape)"
   ]
  },
  {
   "cell_type": "code",
   "execution_count": null,
   "metadata": {},
   "outputs": [],
   "source": [
    "axis0 = np.sum(ct0_pred, axis=0)\n",
    "axis1 = np.sum(ct0_pred, axis=1)\n",
    "axis2 = np.sum(ct0_pred, axis=2)\n",
    "print('axis1')"
   ]
  }
 ],
 "metadata": {
  "kernelspec": {
   "display_name": "Python 3",
   "language": "python",
   "name": "python3"
  },
  "language_info": {
   "codemirror_mode": {
    "name": "ipython",
    "version": 3
   },
   "file_extension": ".py",
   "mimetype": "text/x-python",
   "name": "python",
   "nbconvert_exporter": "python",
   "pygments_lexer": "ipython3",
   "version": "3.6.5"
  },
  "toc": {
   "base_numbering": 1,
   "nav_menu": {},
   "number_sections": true,
   "sideBar": true,
   "skip_h1_title": false,
   "title_cell": "Table of Contents",
   "title_sidebar": "Contents",
   "toc_cell": true,
   "toc_position": {},
   "toc_section_display": true,
   "toc_window_display": false
  },
  "varInspector": {
   "cols": {
    "lenName": 16,
    "lenType": 16,
    "lenVar": 40
   },
   "kernels_config": {
    "python": {
     "delete_cmd_postfix": "",
     "delete_cmd_prefix": "del ",
     "library": "var_list.py",
     "varRefreshCmd": "print(var_dic_list())"
    },
    "r": {
     "delete_cmd_postfix": ") ",
     "delete_cmd_prefix": "rm(",
     "library": "var_list.r",
     "varRefreshCmd": "cat(var_dic_list()) "
    }
   },
   "types_to_exclude": [
    "module",
    "function",
    "builtin_function_or_method",
    "instance",
    "_Feature"
   ],
   "window_display": false
  }
 },
 "nbformat": 4,
 "nbformat_minor": 2
}
