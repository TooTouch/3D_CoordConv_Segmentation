{
 "cells": [
  {
   "cell_type": "code",
   "execution_count": 1,
   "metadata": {},
   "outputs": [
    {
     "name": "stderr",
     "output_type": "stream",
     "text": [
      "C:\\Users\\wogur\\Anaconda3\\lib\\site-packages\\h5py\\__init__.py:36: FutureWarning: Conversion of the second argument of issubdtype from `float` to `np.floating` is deprecated. In future, it will be treated as `np.float64 == np.dtype(float).type`.\n",
      "  from ._conv import register_converters as _register_converters\n",
      "Using TensorFlow backend.\n"
     ]
    }
   ],
   "source": [
    "import nibabel as nib\n",
    "import numpy as np\n",
    "import matplotlib.pyplot as plt\n",
    "import os\n",
    "\n",
    "from keras.utils import to_categorical\n",
    "from sklearn import preprocessing\n",
    "\n",
    "from PIL import Image\n",
    "import itertools\n",
    "from tqdm import tqdm\n",
    "from dltk.io.preprocessing import *"
   ]
  },
  {
   "cell_type": "code",
   "execution_count": 2,
   "metadata": {},
   "outputs": [],
   "source": [
    "root = '../dataset/'\n",
    "ct_set = os.path.join(root,'ct_train_test/ct_train/')\n",
    "mr_set = os.path.join(root,'mr_train_test/mr_train/')\n",
    "\n",
    "class_num=7+1 # background"
   ]
  },
  {
   "cell_type": "code",
   "execution_count": 3,
   "metadata": {},
   "outputs": [],
   "source": [
    "ct_list = os.listdir(ct_set)\n",
    "ct_images = list()\n",
    "ct_labels = list()\n",
    "for ct_l in ct_list:\n",
    "    if 'image' in ct_l:\n",
    "        file_path = os.path.join(ct_set, ct_l)\n",
    "        fn = os.listdir(file_path)\n",
    "        ct_images.append(nib.load(file_path + '/' + fn[0]))\n",
    "    elif 'label' in ct_l:\n",
    "        file_path = os.path.join(ct_set, ct_l)\n",
    "        fn = os.listdir(file_path)\n",
    "        ct_labels.append(nib.load(file_path + '/' + fn[0]))"
   ]
  },
  {
   "cell_type": "code",
   "execution_count": 4,
   "metadata": {},
   "outputs": [],
   "source": [
    "mr_list = os.listdir(mr_set)\n",
    "mr_images = list()\n",
    "mr_labels = list()\n",
    "for mr_l in mr_list:\n",
    "    if 'image' in mr_l:\n",
    "        file_path = os.path.join(mr_set, mr_l)\n",
    "        fn = os.listdir(file_path)\n",
    "        mr_images.append(nib.load(file_path + '/' + fn[0]))\n",
    "    elif 'label' in mr_l:\n",
    "        file_path = os.path.join(mr_set, mr_l)\n",
    "        fn = os.listdir(file_path)\n",
    "        mr_labels.append(nib.load(file_path + '/' + fn[0]))"
   ]
  },
  {
   "cell_type": "code",
   "execution_count": 5,
   "metadata": {},
   "outputs": [],
   "source": [
    "ct_cnt = len(ct_images)\n",
    "mr_cnt = len(mr_images)"
   ]
  },
  {
   "cell_type": "markdown",
   "metadata": {},
   "source": [
    "# image shape"
   ]
  },
  {
   "cell_type": "code",
   "execution_count": 6,
   "metadata": {},
   "outputs": [],
   "source": [
    "ct_size = list()\n",
    "mr_size = list()\n",
    "for ct_image in ct_images:\n",
    "    ct_size.append(ct_image.shape)    \n",
    "for mr_image in mr_images:\n",
    "    mr_size.append(mr_image.shape)"
   ]
  },
  {
   "cell_type": "code",
   "execution_count": 7,
   "metadata": {},
   "outputs": [
    {
     "data": {
      "text/plain": [
       "[(512, 512, 363),\n",
       " (512, 512, 239),\n",
       " (512, 512, 298),\n",
       " (512, 512, 200),\n",
       " (512, 512, 177),\n",
       " (512, 512, 248),\n",
       " (512, 512, 243),\n",
       " (512, 512, 222),\n",
       " (512, 512, 293),\n",
       " (512, 512, 274),\n",
       " (512, 512, 239),\n",
       " (512, 512, 177),\n",
       " (512, 512, 211),\n",
       " (512, 512, 358),\n",
       " (512, 512, 300),\n",
       " (512, 512, 333),\n",
       " (512, 512, 283),\n",
       " (512, 512, 187),\n",
       " (512, 512, 297),\n",
       " (512, 512, 363)]"
      ]
     },
     "execution_count": 7,
     "metadata": {},
     "output_type": "execute_result"
    }
   ],
   "source": [
    "ct_size"
   ]
  },
  {
   "cell_type": "code",
   "execution_count": 8,
   "metadata": {},
   "outputs": [
    {
     "data": {
      "text/plain": [
       "[(512, 512, 160),\n",
       " (512, 512, 128),\n",
       " (288, 288, 160),\n",
       " (288, 288, 120),\n",
       " (288, 288, 130),\n",
       " (256, 256, 160),\n",
       " (288, 288, 180),\n",
       " (288, 288, 130),\n",
       " (512, 512, 120),\n",
       " (288, 288, 160),\n",
       " (288, 288, 160),\n",
       " (512, 512, 128),\n",
       " (512, 512, 112),\n",
       " (512, 512, 160),\n",
       " (340, 340, 200),\n",
       " (288, 288, 130),\n",
       " (288, 288, 140),\n",
       " (288, 288, 150),\n",
       " (288, 288, 135),\n",
       " (288, 288, 135)]"
      ]
     },
     "execution_count": 8,
     "metadata": {},
     "output_type": "execute_result"
    }
   ],
   "source": [
    "mr_size"
   ]
  },
  {
   "cell_type": "markdown",
   "metadata": {},
   "source": [
    "# image resize"
   ]
  },
  {
   "cell_type": "code",
   "execution_count": 9,
   "metadata": {},
   "outputs": [
    {
     "name": "stderr",
     "output_type": "stream",
     "text": [
      "100%|██████████████████████████████████████████████████████████████████████████████████| 20/20 [00:12<00:00,  1.63it/s]\n"
     ]
    }
   ],
   "source": [
    "ct_pad_images = np.zeros((len(ct_images),256,256,256,1))\n",
    "for i in tqdm(range(len(ct_images))):\n",
    "    img = ct_images[i].get_data()\n",
    "    ct_pad_images[i,:,:,:,:] =  resize_image_with_crop_or_pad(img, [256, 256, 256], mode='symmetric').reshape(256,256,256,1)\n",
    "del(ct_pad_images)"
   ]
  },
  {
   "cell_type": "code",
   "execution_count": 10,
   "metadata": {
    "scrolled": true
   },
   "outputs": [
    {
     "name": "stderr",
     "output_type": "stream",
     "text": [
      "100%|██████████████████████████████████████████████████████████████████████████████████| 20/20 [00:29<00:00,  1.49s/it]\n"
     ]
    }
   ],
   "source": [
    "ct_pad_labels = np.zeros((len(ct_labels),256,256,256,8))\n",
    "label_encoder = preprocessing.LabelEncoder()\n",
    "for i in tqdm(range(len(ct_labels))):\n",
    "    img = ct_labels[i].get_data()    \n",
    "    img = resize_image_with_crop_or_pad(img, [256, 256, 256], mode='symmetric') \n",
    "    \n",
    "    # encoder\n",
    "    raw_shape = img.shape\n",
    "    img = img.reshape(-1)\n",
    "    img = label_encoder.fit_transform(img)\n",
    "    img = to_categorical(img, class_num)\n",
    "    \n",
    "    # reshape to raw shape\n",
    "    img = img.reshape((1,) + raw_shape + (class_num,))\n",
    "    \n",
    "    ct_pad_labels[i,:,:,:,:] =  img\n",
    "del(ct_pad_labels)"
   ]
  },
  {
   "cell_type": "code",
   "execution_count": 11,
   "metadata": {},
   "outputs": [
    {
     "name": "stderr",
     "output_type": "stream",
     "text": [
      "100%|██████████████████████████████████████████████████████████████████████████████████| 20/20 [00:03<00:00,  6.53it/s]\n"
     ]
    }
   ],
   "source": [
    "mr_pad_images = np.zeros((len(mr_images),256,256,256,1))\n",
    "for i in tqdm(range(len(mr_images))):\n",
    "    img = mr_images[i].get_data()\n",
    "    mr_pad_images[i,:,:,:,:] =  resize_image_with_crop_or_pad(img, [256, 256, 256], mode='symmetric').reshape(256,256,256,1)\n",
    "del(mr_pad_images)"
   ]
  },
  {
   "cell_type": "code",
   "execution_count": 12,
   "metadata": {},
   "outputs": [
    {
     "name": "stderr",
     "output_type": "stream",
     "text": [
      "\r",
      "  0%|                                                                                           | 0/20 [00:00<?, ?it/s]"
     ]
    },
    {
     "name": "stdout",
     "output_type": "stream",
     "text": [
      "(16777216,)\n",
      "label:  [0 1 2 3 4 5 6 7]\n",
      "cnt:  [16050881   199469   100824    61215   101819   116835    97177    48996]\n"
     ]
    },
    {
     "name": "stderr",
     "output_type": "stream",
     "text": [
      "\r",
      "  5%|████▏                                                                              | 1/20 [00:01<00:31,  1.65s/it]"
     ]
    },
    {
     "name": "stdout",
     "output_type": "stream",
     "text": [
      "(16777216,)\n",
      "label:  [0 1 2 3 4 5 6 7]\n",
      "cnt:  [15346084   217992   194124   143424   316988   186434   164110   208060]\n"
     ]
    },
    {
     "name": "stderr",
     "output_type": "stream",
     "text": [
      "\r",
      " 10%|████████▎                                                                          | 2/20 [00:03<00:29,  1.65s/it]"
     ]
    },
    {
     "name": "stdout",
     "output_type": "stream",
     "text": [
      "(16777216,)\n",
      "label:  [0 1 2 3 4 5 6 7]\n",
      "cnt:  [15657616   201691    52021   242805   188901   224576   156875    52731]\n"
     ]
    },
    {
     "name": "stderr",
     "output_type": "stream",
     "text": [
      "\r",
      " 15%|████████████▍                                                                      | 3/20 [00:04<00:28,  1.66s/it]"
     ]
    },
    {
     "name": "stdout",
     "output_type": "stream",
     "text": [
      "(16777216,)\n",
      "label:  [0 1 2 3 4 5 6 7]\n",
      "cnt:  [15527664   234139    98360   287138   132616   322280   106781    68238]\n"
     ]
    },
    {
     "name": "stderr",
     "output_type": "stream",
     "text": [
      "\r",
      " 20%|████████████████▌                                                                  | 4/20 [00:06<00:26,  1.64s/it]"
     ]
    },
    {
     "name": "stdout",
     "output_type": "stream",
     "text": [
      "(16777216,)\n",
      "label:  [0 1 2 3 4 5 6 7]\n",
      "cnt:  [15902370   232146   113617   206335   100830   114424    46456    61038]\n"
     ]
    },
    {
     "name": "stderr",
     "output_type": "stream",
     "text": [
      "\r",
      " 25%|████████████████████▊                                                              | 5/20 [00:08<00:24,  1.64s/it]"
     ]
    },
    {
     "name": "stdout",
     "output_type": "stream",
     "text": [
      "(16777216,)\n",
      "label:  [0 1 2 3 4 5 6 7]\n",
      "cnt:  [15902184   145043    50585   165202   151884   267266    66484    28568]\n"
     ]
    },
    {
     "name": "stderr",
     "output_type": "stream",
     "text": [
      "\r",
      " 30%|████████████████████████▉                                                          | 6/20 [00:09<00:23,  1.66s/it]"
     ]
    },
    {
     "name": "stdout",
     "output_type": "stream",
     "text": [
      "(16777216,)\n",
      "label:  [0 1 2 3 4 5 6 7]\n",
      "cnt:  [15513695   139244    41710   149944   401785   446601    41378    42859]\n"
     ]
    },
    {
     "name": "stderr",
     "output_type": "stream",
     "text": [
      "\r",
      " 35%|█████████████████████████████                                                      | 7/20 [00:11<00:21,  1.67s/it]"
     ]
    },
    {
     "name": "stdout",
     "output_type": "stream",
     "text": [
      "(16777216,)\n",
      "label:  [0 1 2 3 4 5 6 7]\n",
      "cnt:  [15390971   263428   132771   281612   230446   271909   150644    55435]\n"
     ]
    },
    {
     "name": "stderr",
     "output_type": "stream",
     "text": [
      "\r",
      " 40%|█████████████████████████████████▏                                                 | 8/20 [00:13<00:20,  1.68s/it]"
     ]
    },
    {
     "name": "stdout",
     "output_type": "stream",
     "text": [
      "(16777216,)\n",
      "label:  [0 1 2 3 4 5 6 7]\n",
      "cnt:  [14765033   285064   274279   276514   630170   227551   149118   169487]\n"
     ]
    },
    {
     "name": "stderr",
     "output_type": "stream",
     "text": [
      "\r",
      " 45%|█████████████████████████████████████▎                                             | 9/20 [00:15<00:18,  1.68s/it]"
     ]
    },
    {
     "name": "stdout",
     "output_type": "stream",
     "text": [
      "(16777216,)\n",
      "label:  [0 1 2 3 4 5 6 7 8]\n",
      "cnt:  [15494952   312719   110267    11667   245762   190593   187564   162053\n",
      "    61639]\n"
     ]
    },
    {
     "ename": "IndexError",
     "evalue": "index 8 is out of bounds for axis 1 with size 8",
     "output_type": "error",
     "traceback": [
      "\u001b[1;31m---------------------------------------------------------------------------\u001b[0m",
      "\u001b[1;31mIndexError\u001b[0m                                Traceback (most recent call last)",
      "\u001b[1;32m<ipython-input-12-26b26190b4c5>\u001b[0m in \u001b[0;36m<module>\u001b[1;34m()\u001b[0m\n\u001b[0;32m     14\u001b[0m     \u001b[0mprint\u001b[0m\u001b[1;33m(\u001b[0m\u001b[1;34m'label: '\u001b[0m\u001b[1;33m,\u001b[0m\u001b[0mlabel\u001b[0m\u001b[1;33m)\u001b[0m\u001b[1;33m\u001b[0m\u001b[0m\n\u001b[0;32m     15\u001b[0m     \u001b[0mprint\u001b[0m\u001b[1;33m(\u001b[0m\u001b[1;34m'cnt: '\u001b[0m\u001b[1;33m,\u001b[0m\u001b[0mcnt\u001b[0m\u001b[1;33m)\u001b[0m\u001b[1;33m\u001b[0m\u001b[0m\n\u001b[1;32m---> 16\u001b[1;33m     \u001b[0mimg\u001b[0m \u001b[1;33m=\u001b[0m \u001b[0mto_categorical\u001b[0m\u001b[1;33m(\u001b[0m\u001b[0mimg\u001b[0m\u001b[1;33m,\u001b[0m \u001b[0mclass_num\u001b[0m\u001b[1;33m)\u001b[0m\u001b[1;33m\u001b[0m\u001b[0m\n\u001b[0m\u001b[0;32m     17\u001b[0m \u001b[1;33m\u001b[0m\u001b[0m\n\u001b[0;32m     18\u001b[0m     \u001b[1;31m# reshape to raw shape\u001b[0m\u001b[1;33m\u001b[0m\u001b[1;33m\u001b[0m\u001b[0m\n",
      "\u001b[1;32m~\\Anaconda3\\lib\\site-packages\\keras\\utils\\np_utils.py\u001b[0m in \u001b[0;36mto_categorical\u001b[1;34m(y, num_classes, dtype)\u001b[0m\n\u001b[0;32m     32\u001b[0m     \u001b[0mn\u001b[0m \u001b[1;33m=\u001b[0m \u001b[0my\u001b[0m\u001b[1;33m.\u001b[0m\u001b[0mshape\u001b[0m\u001b[1;33m[\u001b[0m\u001b[1;36m0\u001b[0m\u001b[1;33m]\u001b[0m\u001b[1;33m\u001b[0m\u001b[0m\n\u001b[0;32m     33\u001b[0m     \u001b[0mcategorical\u001b[0m \u001b[1;33m=\u001b[0m \u001b[0mnp\u001b[0m\u001b[1;33m.\u001b[0m\u001b[0mzeros\u001b[0m\u001b[1;33m(\u001b[0m\u001b[1;33m(\u001b[0m\u001b[0mn\u001b[0m\u001b[1;33m,\u001b[0m \u001b[0mnum_classes\u001b[0m\u001b[1;33m)\u001b[0m\u001b[1;33m,\u001b[0m \u001b[0mdtype\u001b[0m\u001b[1;33m=\u001b[0m\u001b[0mdtype\u001b[0m\u001b[1;33m)\u001b[0m\u001b[1;33m\u001b[0m\u001b[0m\n\u001b[1;32m---> 34\u001b[1;33m     \u001b[0mcategorical\u001b[0m\u001b[1;33m[\u001b[0m\u001b[0mnp\u001b[0m\u001b[1;33m.\u001b[0m\u001b[0marange\u001b[0m\u001b[1;33m(\u001b[0m\u001b[0mn\u001b[0m\u001b[1;33m)\u001b[0m\u001b[1;33m,\u001b[0m \u001b[0my\u001b[0m\u001b[1;33m]\u001b[0m \u001b[1;33m=\u001b[0m \u001b[1;36m1\u001b[0m\u001b[1;33m\u001b[0m\u001b[0m\n\u001b[0m\u001b[0;32m     35\u001b[0m     \u001b[0moutput_shape\u001b[0m \u001b[1;33m=\u001b[0m \u001b[0minput_shape\u001b[0m \u001b[1;33m+\u001b[0m \u001b[1;33m(\u001b[0m\u001b[0mnum_classes\u001b[0m\u001b[1;33m,\u001b[0m\u001b[1;33m)\u001b[0m\u001b[1;33m\u001b[0m\u001b[0m\n\u001b[0;32m     36\u001b[0m     \u001b[0mcategorical\u001b[0m \u001b[1;33m=\u001b[0m \u001b[0mnp\u001b[0m\u001b[1;33m.\u001b[0m\u001b[0mreshape\u001b[0m\u001b[1;33m(\u001b[0m\u001b[0mcategorical\u001b[0m\u001b[1;33m,\u001b[0m \u001b[0moutput_shape\u001b[0m\u001b[1;33m)\u001b[0m\u001b[1;33m\u001b[0m\u001b[0m\n",
      "\u001b[1;31mIndexError\u001b[0m: index 8 is out of bounds for axis 1 with size 8"
     ]
    }
   ],
   "source": [
    "mr_pad_labels = np.zeros((len(mr_labels),256,256,256,8))\n",
    "label_encoder = preprocessing.LabelEncoder()\n",
    "for i in tqdm(range(len(mr_labels))):\n",
    "    img = mr_labels[i].get_data()\n",
    "    img = resize_image_with_crop_or_pad(img, [256, 256, 256], mode='symmetric')\n",
    "    \n",
    "    # encoder\n",
    "    raw_shape = img.shape\n",
    "    img = img.reshape(-1)\n",
    "    \n",
    "    img = label_encoder.fit_transform(img)\n",
    "    print(img.shape)\n",
    "    label, cnt = np.unique(img,return_counts=True)\n",
    "    print('label: ',label)\n",
    "    print('cnt: ',cnt)\n",
    "    img = to_categorical(img, class_num)\n",
    "    \n",
    "    # reshape to raw shape\n",
    "    img = img.reshape((1,) + raw_shape + (class_num,))\n",
    "    \n",
    "    mr_pad_labels[i,:,:,:,:] =  img\n",
    "del(mr_pad_labels)"
   ]
  },
  {
   "cell_type": "code",
   "execution_count": 25,
   "metadata": {},
   "outputs": [
    {
     "data": {
      "text/plain": [
       "(256, 256, 256)"
      ]
     },
     "execution_count": 25,
     "metadata": {},
     "output_type": "execute_result"
    }
   ],
   "source": [
    "mr_label = resize_image_with_crop_or_pad(mr_labels[8].get_data(), [256, 256, 256], mode='symmetric')\n",
    "mr_label.shape"
   ]
  },
  {
   "cell_type": "code",
   "execution_count": 26,
   "metadata": {},
   "outputs": [
    {
     "name": "stdout",
     "output_type": "stream",
     "text": [
      "label:  [  0 205 420 500 550 600 820 850]\n",
      "cnt:  [14765033   285064   274279   276514   630170   227551   149118   169487]\n"
     ]
    }
   ],
   "source": [
    "label, cnt = np.unique(mr_label.reshape(-1),return_counts=True)\n",
    "print('label: ',label)\n",
    "print('cnt: ',cnt)"
   ]
  },
  {
   "cell_type": "code",
   "execution_count": 21,
   "metadata": {},
   "outputs": [
    {
     "name": "stdout",
     "output_type": "stream",
     "text": [
      "(16777216,)\n",
      "label:  [0 1 2 3 4 5 6 7 8]\n",
      "cnt:  [15494952   312719   110267    11667   245762   190593   187564   162053\n",
      "    61639]\n"
     ]
    },
    {
     "ename": "IndexError",
     "evalue": "index 8 is out of bounds for axis 1 with size 8",
     "output_type": "error",
     "traceback": [
      "\u001b[1;31m---------------------------------------------------------------------------\u001b[0m",
      "\u001b[1;31mIndexError\u001b[0m                                Traceback (most recent call last)",
      "\u001b[1;32m<ipython-input-21-4a207a9b7e1b>\u001b[0m in \u001b[0;36m<module>\u001b[1;34m()\u001b[0m\n\u001b[0;32m      8\u001b[0m \u001b[0mprint\u001b[0m\u001b[1;33m(\u001b[0m\u001b[1;34m'label: '\u001b[0m\u001b[1;33m,\u001b[0m\u001b[0mlabel\u001b[0m\u001b[1;33m)\u001b[0m\u001b[1;33m\u001b[0m\u001b[0m\n\u001b[0;32m      9\u001b[0m \u001b[0mprint\u001b[0m\u001b[1;33m(\u001b[0m\u001b[1;34m'cnt: '\u001b[0m\u001b[1;33m,\u001b[0m\u001b[0mcnt\u001b[0m\u001b[1;33m)\u001b[0m\u001b[1;33m\u001b[0m\u001b[0m\n\u001b[1;32m---> 10\u001b[1;33m \u001b[0mimg\u001b[0m \u001b[1;33m=\u001b[0m \u001b[0mto_categorical\u001b[0m\u001b[1;33m(\u001b[0m\u001b[0mmr_label\u001b[0m\u001b[1;33m,\u001b[0m \u001b[0mclass_num\u001b[0m\u001b[1;33m)\u001b[0m\u001b[1;33m\u001b[0m\u001b[0m\n\u001b[0m",
      "\u001b[1;32m~\\Anaconda3\\lib\\site-packages\\keras\\utils\\np_utils.py\u001b[0m in \u001b[0;36mto_categorical\u001b[1;34m(y, num_classes, dtype)\u001b[0m\n\u001b[0;32m     32\u001b[0m     \u001b[0mn\u001b[0m \u001b[1;33m=\u001b[0m \u001b[0my\u001b[0m\u001b[1;33m.\u001b[0m\u001b[0mshape\u001b[0m\u001b[1;33m[\u001b[0m\u001b[1;36m0\u001b[0m\u001b[1;33m]\u001b[0m\u001b[1;33m\u001b[0m\u001b[0m\n\u001b[0;32m     33\u001b[0m     \u001b[0mcategorical\u001b[0m \u001b[1;33m=\u001b[0m \u001b[0mnp\u001b[0m\u001b[1;33m.\u001b[0m\u001b[0mzeros\u001b[0m\u001b[1;33m(\u001b[0m\u001b[1;33m(\u001b[0m\u001b[0mn\u001b[0m\u001b[1;33m,\u001b[0m \u001b[0mnum_classes\u001b[0m\u001b[1;33m)\u001b[0m\u001b[1;33m,\u001b[0m \u001b[0mdtype\u001b[0m\u001b[1;33m=\u001b[0m\u001b[0mdtype\u001b[0m\u001b[1;33m)\u001b[0m\u001b[1;33m\u001b[0m\u001b[0m\n\u001b[1;32m---> 34\u001b[1;33m     \u001b[0mcategorical\u001b[0m\u001b[1;33m[\u001b[0m\u001b[0mnp\u001b[0m\u001b[1;33m.\u001b[0m\u001b[0marange\u001b[0m\u001b[1;33m(\u001b[0m\u001b[0mn\u001b[0m\u001b[1;33m)\u001b[0m\u001b[1;33m,\u001b[0m \u001b[0my\u001b[0m\u001b[1;33m]\u001b[0m \u001b[1;33m=\u001b[0m \u001b[1;36m1\u001b[0m\u001b[1;33m\u001b[0m\u001b[0m\n\u001b[0m\u001b[0;32m     35\u001b[0m     \u001b[0moutput_shape\u001b[0m \u001b[1;33m=\u001b[0m \u001b[0minput_shape\u001b[0m \u001b[1;33m+\u001b[0m \u001b[1;33m(\u001b[0m\u001b[0mnum_classes\u001b[0m\u001b[1;33m,\u001b[0m\u001b[1;33m)\u001b[0m\u001b[1;33m\u001b[0m\u001b[0m\n\u001b[0;32m     36\u001b[0m     \u001b[0mcategorical\u001b[0m \u001b[1;33m=\u001b[0m \u001b[0mnp\u001b[0m\u001b[1;33m.\u001b[0m\u001b[0mreshape\u001b[0m\u001b[1;33m(\u001b[0m\u001b[0mcategorical\u001b[0m\u001b[1;33m,\u001b[0m \u001b[0moutput_shape\u001b[0m\u001b[1;33m)\u001b[0m\u001b[1;33m\u001b[0m\u001b[0m\n",
      "\u001b[1;31mIndexError\u001b[0m: index 8 is out of bounds for axis 1 with size 8"
     ]
    }
   ],
   "source": [
    "# encoder\n",
    "raw_shape = mr_label.shape\n",
    "mr_label = img.reshape(-1)\n",
    "label_encoder = preprocessing.LabelEncoder()\n",
    "mr_label = label_encoder.fit_transform(mr_label)\n",
    "print(mr_label.shape)\n",
    "label, cnt = np.unique(mr_label,return_counts=True)\n",
    "print('label: ',label)\n",
    "print('cnt: ',cnt)\n",
    "img = to_categorical(mr_label, class_num)"
   ]
  },
  {
   "cell_type": "markdown",
   "metadata": {},
   "source": [
    "### 아래 이미지는 channel 차원을 추가하기 전 이미지"
   ]
  },
  {
   "cell_type": "code",
   "execution_count": null,
   "metadata": {},
   "outputs": [],
   "source": [
    "f, ax = plt.subplots(5,8, figsize=(25,20))\n",
    "img_idx = 0\n",
    "pad_idx = 0\n",
    "for i in range(5*8):\n",
    "    if (i%8)%2==0:\n",
    "        ax[i//8,i%8].imshow(ct_images[img_idx].get_data()[256,:,:])\n",
    "        ax[i//8,i%8].axis('off')\n",
    "        img_idx+=1\n",
    "    else:\n",
    "        mask = np.argmax(ct_pad_images[pad_idx], axis=-1)\n",
    "        ax[i//8,i%8].imshow(mask[128,:,:])\n",
    "        ax[i//8,i%8].axis('off')\n",
    "        pad_idx+=1"
   ]
  },
  {
   "cell_type": "code",
   "execution_count": 45,
   "metadata": {},
   "outputs": [
    {
     "data": {
      "text/plain": [
       "(512, 512, 363)"
      ]
     },
     "execution_count": 45,
     "metadata": {},
     "output_type": "execute_result"
    }
   ],
   "source": [
    "mask = ct_labels[0].get_data()\n",
    "mask.shape"
   ]
  },
  {
   "cell_type": "code",
   "execution_count": 46,
   "metadata": {},
   "outputs": [
    {
     "name": "stderr",
     "output_type": "stream",
     "text": [
      "C:\\Users\\wogur\\Anaconda3\\lib\\site-packages\\numpy\\core\\memmap.py:335: FutureWarning: Using a non-tuple sequence for multidimensional indexing is deprecated; use `arr[tuple(seq)]` instead of `arr[seq]`. In the future this will be interpreted as an array index, `arr[np.array(seq)]`, which will result either in an error or a different result.\n",
      "  res = super(memmap, self).__getitem__(index)\n"
     ]
    }
   ],
   "source": [
    "resized_mask = resize_image_with_crop_or_pad(mask, [256, 256, 256], mode='symmetric')"
   ]
  },
  {
   "cell_type": "code",
   "execution_count": null,
   "metadata": {},
   "outputs": [],
   "source": [
    "print(ct_pad_images[0].shape)\n",
    "img = nib.Nifti1Image(ct_pad_images[0], affine=np.eye(4))\n",
    "nib.save(img,'../dataset/ct_imgs.nii')"
   ]
  },
  {
   "cell_type": "code",
   "execution_count": null,
   "metadata": {},
   "outputs": [],
   "source": [
    "mask = ct_labels[0].get_data()\n",
    "mask.shape"
   ]
  },
  {
   "cell_type": "code",
   "execution_count": null,
   "metadata": {},
   "outputs": [],
   "source": [
    "resized_mask = resize_image_with_crop_or_pad(mask, [256, 256, 256], mode='symmetric')"
   ]
  },
  {
   "cell_type": "code",
   "execution_count": null,
   "metadata": {},
   "outputs": [],
   "source": [
    "print(resized_mask.shape)\n",
    "img = nib.Nifti1Image(resized_mask, affine=np.eye(4))\n",
    "nib.save(img,'../dataset/mr_imgs.nii')"
   ]
  },
  {
   "cell_type": "code",
   "execution_count": null,
   "metadata": {},
   "outputs": [],
   "source": [
    "print(ct_pad_labels[0].shape)\n",
    "img = nib.Nifti1Image(ct_pad_labels[0], affine=np.eye(4))\n",
    "nib.save(img,'../dataset/ct_labels.nii')"
   ]
  },
  {
   "cell_type": "code",
   "execution_count": null,
   "metadata": {},
   "outputs": [],
   "source": [
    "print(mr_pad_labels[0].shape)\n",
    "img = nib.Nifti1Image(mr_pad_labels[0], affine=np.eye(4))\n",
    "nib.save(img,'../dataset/mr_labels.nii')"
   ]
  },
  {
   "cell_type": "markdown",
   "metadata": {},
   "source": [
    "# Test image"
   ]
  },
  {
   "cell_type": "code",
   "execution_count": null,
   "metadata": {},
   "outputs": [],
   "source": [
    "ct_test_dir = './dataset/ct_train_test/ct_test/'\n",
    "ct_test_list = os.listdir(ct_test_dir)\n",
    "ct_test_pad_images = list()\n",
    "\n",
    "mr_test_dir = './dataset/mr_train_test/mr_test/'\n",
    "mr_test_list = os.listdir(mr_test_dir)\n",
    "mr_test_pad_images = list()"
   ]
  },
  {
   "cell_type": "code",
   "execution_count": null,
   "metadata": {},
   "outputs": [],
   "source": [
    "ct_test_images = list()\n",
    "for fn in ct_test_list:\n",
    "    img_dir = os.path.join(ct_test_dir,fn)\n",
    "    img_fn = os.listdir(img_dir)[0]\n",
    "    im = nib.load(os.path.join(img_dir, img_fn))\n",
    "    ct_test_images.append(im)\n",
    "    \n",
    "mr_test_images = list()\n",
    "for fn in mr_test_list:\n",
    "    img_dir = os.path.join(mr_test_dir,fn)\n",
    "    img_fn = os.listdir(img_dir)[0]\n",
    "    im = nib.load(os.path.join(img_dir, img_fn))\n",
    "    mr_test_images.append(im)"
   ]
  },
  {
   "cell_type": "code",
   "execution_count": null,
   "metadata": {},
   "outputs": [],
   "source": [
    "print('='*100)\n",
    "print('CT')\n",
    "print('='*100)\n",
    "for img in ct_test_images:\n",
    "    print(img.shape)\n",
    "    \n",
    "print('='*100)\n",
    "print('MR')\n",
    "print('='*100)\n",
    "for img in mr_test_images:\n",
    "    print(img.shape)"
   ]
  },
  {
   "cell_type": "code",
   "execution_count": null,
   "metadata": {},
   "outputs": [],
   "source": [
    "f, ax = plt.subplots(1,5,figsize=(30,10))\n",
    "for i in range(5):\n",
    "    ax[i].imshow(ct_test_images[i].get_data()[256,:,:])\n",
    "    ax[i].axis('off')"
   ]
  },
  {
   "cell_type": "code",
   "execution_count": null,
   "metadata": {},
   "outputs": [],
   "source": [
    "ct_test_pad_images = image_preprocess(ct_test_images)\n",
    "mr_test_pad_images = mask_preprocess(mr_test_images)"
   ]
  },
  {
   "cell_type": "code",
   "execution_count": null,
   "metadata": {},
   "outputs": [],
   "source": []
  }
 ],
 "metadata": {
  "kernelspec": {
   "display_name": "Python 3",
   "language": "python",
   "name": "python3"
  },
  "language_info": {
   "codemirror_mode": {
    "name": "ipython",
    "version": 3
   },
   "file_extension": ".py",
   "mimetype": "text/x-python",
   "name": "python",
   "nbconvert_exporter": "python",
   "pygments_lexer": "ipython3",
   "version": "3.6.5"
  }
 },
 "nbformat": 4,
 "nbformat_minor": 2
}
